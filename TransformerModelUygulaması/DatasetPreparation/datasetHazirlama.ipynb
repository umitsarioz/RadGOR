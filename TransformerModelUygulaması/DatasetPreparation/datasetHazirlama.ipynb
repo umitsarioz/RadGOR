{
 "cells": [
  {
   "cell_type": "code",
   "execution_count": 1,
   "metadata": {},
   "outputs": [],
   "source": [
    "from xml.etree import ElementTree as ET\n",
    "import os\n",
    "import csv\n",
    "import pandas as pd\n",
    "\n",
    "import numpy as np \n",
    "import matplotlib.pyplot as plt\n",
    "import seaborn as sns\n",
    "import nltk\n",
    "from nltk import word_tokenize\n",
    "from nltk.corpus import stopwords"
   ]
  },
  {
   "cell_type": "code",
   "execution_count": 4,
   "metadata": {},
   "outputs": [],
   "source": [
    "class csvCreator:\n",
    "    def xmlRaporuAl(self,report_name):\n",
    "        tree = ET.parse(report_name)\n",
    "        root = tree.getroot()\n",
    "        return root\n",
    "\n",
    "      # Id sayısı kadar rapor olusturacağım için önce kaç Id olduğunu buluyorum.\n",
    "    def id_Bul(self,root):\n",
    "        '''\n",
    "        Bu fonksiyon raporların ilişkili olduğu görüntünün id sini bulmamıza yardımcı olur.\n",
    "        '''\n",
    "        my_Images = [] # Goruntuleri tutacak olan liste\n",
    "        for img in root.getchildren(): # xml dosyası içinde ve root altındaki tüm tag'leri dolaş\n",
    "            if img.tag == 'parentImage': # bu tagler'den parentImage eşit ise \n",
    "                img_id = list(img.attrib.values())[0] #attribute degerlerinin ilk elemanı bize raporun ait oldugu image id donduruyor\n",
    "                my_Images.append(img_id) # bunu id'ler icin olusturdugum listeye ekle\n",
    "        return my_Images \n",
    "\n",
    "    def finding_Bul(self,root):\n",
    "        '''\n",
    "        Bu fonksiyon xml tipindeki raporlar içerisindeki findings kısmını bulmamıza yardımcı olur.\n",
    "        '''\n",
    "        findings = root.find('./MedlineCitation/Article/Abstract/AbstractText[@Label=\"FINDINGS\"]')\n",
    "\n",
    "        finding_text = findings.text\n",
    "        if finding_text == None:\n",
    "            finding_text = 'No Findings'\n",
    "        return finding_text\n",
    "\n",
    "\n",
    "    def satirEkle(self,filename,report_id,finding):\n",
    "        '''\n",
    "        Bu fonksiyon bize sadece id ve findinglerin oldugu csv dosyasını oluşturmamızda yardımcı olur.\n",
    "        inputs : report_id - raporumuzun ilişkili olduğu resmin id degeri\n",
    "                finding - raporlardaki bulgumuz yani asıl raporu olusturan kısımdır.\n",
    "        '''\n",
    "        rows = [] # Değerlerimizi tutacak olan satır.\n",
    "\n",
    "        report_as_csv = open(filename,'a',encoding='utf-8')\n",
    "\n",
    "        #Değerler satırını oluştur ve csv içerisine yükle.\n",
    "        rows.append(report_id)\n",
    "        rows.append(finding)\n",
    "        csv.writer(report_as_csv).writerow(rows)\n",
    "\n",
    "        #close openin file .\n",
    "        report_as_csv.close()\n",
    "\n",
    "    def datasetiHazirla(self,kayit_dosyasi,goruntulerin_dosya_yolu):\n",
    "        with open(kayit_dosyasi,'w',encoding='utf-8') as r: # Kayıt edilecek boş rapor csv dosyasını oluştur.\n",
    "            columns = ['Id','Findings']\n",
    "            csv.writer(r).writerow(columns)\n",
    "\n",
    "        all_files_names = os.listdir(goruntulerin_dosya_yolu)    \n",
    "\n",
    "\n",
    "        # Başlangıç..\n",
    "\n",
    "        for file_name in all_files_names:\n",
    "            if file_name.endswith('.xml'):    \n",
    "                root = self.xmlRaporuAl(goruntulerin_dosya_yolu+file_name)\n",
    "                print(file_name+\" is loaded.\\n\")\n",
    "            else:\n",
    "                continue\n",
    "            try:  \n",
    "                my_images_all_id = cc.id_Bul(root)\n",
    "                finding = self.finding_Bul(root)\n",
    "                print(\"Report Id/s:\",my_images_all_id,\"\\nFindings:\",finding,\"\\n\")\n",
    "            except:\n",
    "                print(\"Exception : Report informations can't get  !!\")\n",
    "            try:\n",
    "                for id in my_images_all_id:\n",
    "                    self.satirEkle(kayit_dosyasi,id,finding)\n",
    "                    print(id,\" is appended successfully.\\n\\n*********\\n\")\n",
    "                if my_images_all_id <1:\n",
    "                    print(\"There is NO IMAGE data with related \",file_name)\n",
    "            except:\n",
    "                print(\"Exception : Values can't add to new report file.\")"
   ]
  },
  {
   "cell_type": "code",
   "execution_count": null,
   "metadata": {},
   "outputs": [],
   "source": [
    "kayit_dosyasi = 'metadata_all.csv'\n",
    "goruntulerin_dosya_yolu = './dataset/reports/'\n",
    "cc = csvCreator() # CSV dosyasını dolduracak olan işlemleri gerçekleştiren objeyi oluştur.\n",
    "cc.datasetiHazirla(kayit_dosyasi,goruntulerin_dosya_yolu)"
   ]
  },
  {
   "cell_type": "code",
   "execution_count": 6,
   "metadata": {},
   "outputs": [],
   "source": [
    "metadata_df = pd.read_csv(kayit_dosyasi)"
   ]
  },
  {
   "cell_type": "code",
   "execution_count": 7,
   "metadata": {},
   "outputs": [
    {
     "data": {
      "text/html": [
       "<div>\n",
       "<style scoped>\n",
       "    .dataframe tbody tr th:only-of-type {\n",
       "        vertical-align: middle;\n",
       "    }\n",
       "\n",
       "    .dataframe tbody tr th {\n",
       "        vertical-align: top;\n",
       "    }\n",
       "\n",
       "    .dataframe thead th {\n",
       "        text-align: right;\n",
       "    }\n",
       "</style>\n",
       "<table border=\"1\" class=\"dataframe\">\n",
       "  <thead>\n",
       "    <tr style=\"text-align: right;\">\n",
       "      <th></th>\n",
       "      <th>Id</th>\n",
       "      <th>Findings</th>\n",
       "    </tr>\n",
       "  </thead>\n",
       "  <tbody>\n",
       "    <tr>\n",
       "      <th>7463</th>\n",
       "      <td>CXR998_IM-2479-1001</td>\n",
       "      <td>Cardiomediastinal silhouette demonstrates norm...</td>\n",
       "    </tr>\n",
       "    <tr>\n",
       "      <th>7464</th>\n",
       "      <td>CXR998_IM-2479-2001</td>\n",
       "      <td>Cardiomediastinal silhouette demonstrates norm...</td>\n",
       "    </tr>\n",
       "    <tr>\n",
       "      <th>7465</th>\n",
       "      <td>CXR999_IM-2480-1001</td>\n",
       "      <td>Lungs are clear bilaterally. There is no focal...</td>\n",
       "    </tr>\n",
       "    <tr>\n",
       "      <th>7466</th>\n",
       "      <td>CXR999_IM-2480-2001</td>\n",
       "      <td>Lungs are clear bilaterally. There is no focal...</td>\n",
       "    </tr>\n",
       "    <tr>\n",
       "      <th>7467</th>\n",
       "      <td>CXR999_IM-2480-3001</td>\n",
       "      <td>Lungs are clear bilaterally. There is no focal...</td>\n",
       "    </tr>\n",
       "  </tbody>\n",
       "</table>\n",
       "</div>"
      ],
      "text/plain": [
       "                       Id                                           Findings\n",
       "7463  CXR998_IM-2479-1001  Cardiomediastinal silhouette demonstrates norm...\n",
       "7464  CXR998_IM-2479-2001  Cardiomediastinal silhouette demonstrates norm...\n",
       "7465  CXR999_IM-2480-1001  Lungs are clear bilaterally. There is no focal...\n",
       "7466  CXR999_IM-2480-2001  Lungs are clear bilaterally. There is no focal...\n",
       "7467  CXR999_IM-2480-3001  Lungs are clear bilaterally. There is no focal..."
      ]
     },
     "execution_count": 7,
     "metadata": {},
     "output_type": "execute_result"
    }
   ],
   "source": [
    "metadata_df.tail()"
   ]
  },
  {
   "cell_type": "code",
   "execution_count": 8,
   "metadata": {},
   "outputs": [],
   "source": [
    "frontal_goruntulerin_dosya_yolu = './dataset/frontal_images/'\n",
    "frontal_goruntulerin_raporlarinin_dosya_yolu = './dataset/frontal_reports/metadata_frontal.csv'"
   ]
  },
  {
   "cell_type": "code",
   "execution_count": 9,
   "metadata": {},
   "outputs": [],
   "source": [
    "frontal_goruntulerin_dosya_isimleri = os.listdir(frontal_goruntulerin_dosya_yolu)"
   ]
  },
  {
   "cell_type": "code",
   "execution_count": 10,
   "metadata": {},
   "outputs": [],
   "source": [
    "with open(frontal_goruntulerin_raporlarinin_dosya_yolu,'w',encoding='utf-8') as r: # Kayıt edilecek boş rapor csv dosyasını oluştur.\n",
    "    columns = ['Id','Findings']\n",
    "    csv.writer(r).writerow(columns)"
   ]
  },
  {
   "cell_type": "code",
   "execution_count": null,
   "metadata": {},
   "outputs": [],
   "source": [
    "cc = csvCreator()\n",
    "for i in range(len(metadata_df)):\n",
    "    img_id = metadata_df['Id'].iloc[i][3:] +'.png'\n",
    "    finding = metadata_df['Findings'].iloc[i]\n",
    "    if img_id in frontal_goruntulerin_dosya_isimleri:\n",
    "        cc.satirEkle(frontal_goruntulerin_raporlarinin_dosya_yolu,img_id,finding)\n",
    "        print(f\"{img_id} eklendi.. Finding:{finding}\")"
   ]
  }
 ],
 "metadata": {
  "kernelspec": {
   "display_name": "Python 3",
   "language": "python",
   "name": "python3"
  },
  "language_info": {
   "codemirror_mode": {
    "name": "ipython",
    "version": 3
   },
   "file_extension": ".py",
   "mimetype": "text/x-python",
   "name": "python",
   "nbconvert_exporter": "python",
   "pygments_lexer": "ipython3",
   "version": "3.8.5"
  }
 },
 "nbformat": 4,
 "nbformat_minor": 5
}
