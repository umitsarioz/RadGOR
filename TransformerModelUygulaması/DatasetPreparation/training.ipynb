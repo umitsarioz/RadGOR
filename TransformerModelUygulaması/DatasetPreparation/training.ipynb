{
 "cells": [
  {
   "cell_type": "code",
   "execution_count": 1,
   "metadata": {
    "id": "G7j1nZAs6K2B"
   },
   "outputs": [],
   "source": [
    "import warnings\n",
    "warnings.filterwarnings('ignore')\n",
    "import numpy as np # matris işlemleri \n",
    "import pandas as pd # verisetini yükleme \n",
    "import os  \n",
    "from pickle import load,dump  # dosya kaydetme , yükleme \n",
    "from tqdm import tqdm # prefetch dataset üzerinde gezinme \n",
    "import time\n",
    "\n",
    "import tensorflow as tf \n",
    "from tensorflow.data.experimental import AUTOTUNE \n",
    "from tensorflow.data import Dataset  # dataset oluşturma \n",
    "\n",
    "\n",
    "from tensorflow import keras \n",
    "from keras.models import Model,load_model # model oluşturma, model yükleme \n",
    "from tensorflow.keras import layers\n",
    "# Image Operations \n",
    "from keras.applications.inception_v3 import InceptionV3,preprocess_input # görüntü extract modeli, preprocess \n",
    "from tensorflow.io import read_file # görüntüyü dosyadan okuma \n",
    "from tensorflow.image import decode_png,resize # görüntüyü decode etme , görüntüyü resize etme \n",
    "\n",
    "# Text operations\n",
    "from keras.preprocessing.sequence import pad_sequences # padding ekleme \n",
    "from keras.preprocessing.text import Tokenizer # sözlük yapısı oluşturma, tokenizer oluşturma, indekslerden ulaşma, sekans oluşturma vs. \n",
    "\n",
    "\n",
    "from sklearn.model_selection import train_test_split # verisetini bölme \n",
    "import nltk \n",
    "from nltk.translate.bleu_score import sentence_bleu\n",
    "from PIL import Image\n",
    "import matplotlib.pyplot as plt "
   ]
  },
  {
   "cell_type": "code",
   "execution_count": 2,
   "metadata": {
    "id": "7kmFYGO06O09"
   },
   "outputs": [],
   "source": [
    "kayit_yeri = '/content/drive/MyDrive/bm496_7haziran'\n",
    "dataset_path = os.path.join(kayit_yeri,'dataset')\n",
    "csv_path = os.path.join(dataset_path,'frontal_reports',\"clean_indiana_ds.csv\")\n",
    "images_path = os.path.join(dataset_path,'frontal_images')\n",
    "\n",
    "data_df = pd.read_csv(csv_path)"
   ]
  },
  {
   "cell_type": "code",
   "execution_count": 3,
   "metadata": {
    "colab": {
     "base_uri": "https://localhost:8080/",
     "height": 206
    },
    "id": "NrQuL3W-6Pg-",
    "outputId": "b127afd3-4df0-400d-ebfe-00fd94a8aceb"
   },
   "outputs": [
    {
     "data": {
      "text/html": [
       "<div>\n",
       "<style scoped>\n",
       "    .dataframe tbody tr th:only-of-type {\n",
       "        vertical-align: middle;\n",
       "    }\n",
       "\n",
       "    .dataframe tbody tr th {\n",
       "        vertical-align: top;\n",
       "    }\n",
       "\n",
       "    .dataframe thead th {\n",
       "        text-align: right;\n",
       "    }\n",
       "</style>\n",
       "<table border=\"1\" class=\"dataframe\">\n",
       "  <thead>\n",
       "    <tr style=\"text-align: right;\">\n",
       "      <th></th>\n",
       "      <th>Id</th>\n",
       "      <th>Findings</th>\n",
       "    </tr>\n",
       "  </thead>\n",
       "  <tbody>\n",
       "    <tr>\n",
       "      <th>3136</th>\n",
       "      <td>995_IM-2478-1001.png</td>\n",
       "      <td>sternotomy sutures bypass grafts placed interv...</td>\n",
       "    </tr>\n",
       "    <tr>\n",
       "      <th>3137</th>\n",
       "      <td>997_IM-2479-1001.png</td>\n",
       "      <td>calcified mediastinal no focal areas consolida...</td>\n",
       "    </tr>\n",
       "    <tr>\n",
       "      <th>3138</th>\n",
       "      <td>998_IM-2479-1001.png</td>\n",
       "      <td>cardiomediastinal silhouette demonstrates norm...</td>\n",
       "    </tr>\n",
       "    <tr>\n",
       "      <th>3139</th>\n",
       "      <td>999_IM-2480-1001.png</td>\n",
       "      <td>lungs clear bilaterally no focal consolidation...</td>\n",
       "    </tr>\n",
       "    <tr>\n",
       "      <th>3140</th>\n",
       "      <td>999_IM-2480-3001.png</td>\n",
       "      <td>lungs clear bilaterally no focal consolidation...</td>\n",
       "    </tr>\n",
       "  </tbody>\n",
       "</table>\n",
       "</div>"
      ],
      "text/plain": [
       "                        Id                                           Findings\n",
       "3136  995_IM-2478-1001.png  sternotomy sutures bypass grafts placed interv...\n",
       "3137  997_IM-2479-1001.png  calcified mediastinal no focal areas consolida...\n",
       "3138  998_IM-2479-1001.png  cardiomediastinal silhouette demonstrates norm...\n",
       "3139  999_IM-2480-1001.png  lungs clear bilaterally no focal consolidation...\n",
       "3140  999_IM-2480-3001.png  lungs clear bilaterally no focal consolidation..."
      ]
     },
     "execution_count": 3,
     "metadata": {
      "tags": []
     },
     "output_type": "execute_result"
    }
   ],
   "source": [
    "data_df.tail()"
   ]
  },
  {
   "cell_type": "code",
   "execution_count": 4,
   "metadata": {
    "colab": {
     "base_uri": "https://localhost:8080/"
    },
    "id": "9SlV1tZw6RpJ",
    "outputId": "5e6bae1f-7e79-46d0-bbc0-2022567a030e"
   },
   "outputs": [
    {
     "name": "stdout",
     "output_type": "stream",
     "text": [
      "<class 'pandas.core.frame.DataFrame'>\n",
      "RangeIndex: 3141 entries, 0 to 3140\n",
      "Data columns (total 2 columns):\n",
      " #   Column    Non-Null Count  Dtype \n",
      "---  ------    --------------  ----- \n",
      " 0   Id        3141 non-null   object\n",
      " 1   Findings  3141 non-null   object\n",
      "dtypes: object(2)\n",
      "memory usage: 49.2+ KB\n"
     ]
    }
   ],
   "source": [
    "data_df.info()"
   ]
  },
  {
   "cell_type": "code",
   "execution_count": 5,
   "metadata": {
    "id": "_rmtY2g56Rmd"
   },
   "outputs": [],
   "source": [
    "class myutils:\n",
    "    def createDictStructure(self,dataset,images_fullpath):\n",
    "        '''\n",
    "        Fonk: Dataframe yapısından dict yapısı oluşturan fonksiyon\n",
    "        Args:\n",
    "        :param dataset: Görüntü id'lerini ve finding'lerini içeren dataframe yapısı\n",
    "        :param images_fullpath: Görüntü dosyalarının bulunduğu konum\n",
    "        :return: {görüntü_full_path:finding} yapısı\n",
    "        :return: tüm cümleleri(captionları) içeren liste yapısı\n",
    "        '''\n",
    "        findings = dataset['Findings'].values\n",
    "        images_ids = dataset['Id'].values\n",
    "        report_mapping = {}\n",
    "        finding_list = []\n",
    "        for i in range(len(findings)):\n",
    "            img_name = images_ids[i]\n",
    "            img_name = os.path.join(images_fullpath, img_name.strip())\n",
    "\n",
    "            finding = \"<start> \" + findings[i] + \" <end>\"\n",
    "            finding_list.append(finding)\n",
    "            report_mapping[img_name] = finding\n",
    "        print(\"INFO: Tüm veri kümesi için { IMG_FULLPATH: CAPTION } dict yapısı oluşturuldu.\")\n",
    "        return report_mapping\n",
    "\n",
    "    def saveToFile(self,data, filename):\n",
    "        '''\n",
    "         Args:  data : bulgular, img_idler ya da öznitelikler ( List)\n",
    "                filename:cümleleri/image idleri / öznitelikleri içeren dosyanın tam yolu\n",
    "        '''\n",
    "        try:\n",
    "            dump(data, open(filename, 'wb'))\n",
    "            print(f\"{filename} dosya kaydedildi\")\n",
    "        except:\n",
    "            raise Exception(f'{filename} dosya kaydedilemedi..!')\n",
    "\n",
    "    def readFromFile(self,filename):\n",
    "        '''\n",
    "        Bu fonksiyon daha önceden çıkarılmış feature'ları yükler.\n",
    "        input : data: tüm cümleleri/image'idleri içeren yapı\n",
    "              filename: yapıyı kaydedeceğimiz dosyanın adıyla beraber tam dosya yolu.\n",
    "        '''\n",
    "        data = load(open(filename,'rb'))\n",
    "        print(filename.split('/')[-1],\" dosyası yüklendi.. len:\",len(data))\n",
    "        return data\n",
    "\n"
   ]
  },
  {
   "cell_type": "code",
   "execution_count": 6,
   "metadata": {
    "id": "BTFWt7o26Rli"
   },
   "outputs": [],
   "source": [
    "helper = myutils()"
   ]
  },
  {
   "cell_type": "code",
   "execution_count": 7,
   "metadata": {
    "colab": {
     "base_uri": "https://localhost:8080/"
    },
    "id": "aHZoI13O6Rht",
    "outputId": "afe69b80-3c2b-4296-9bde-8206053d97de"
   },
   "outputs": [
    {
     "name": "stdout",
     "output_type": "stream",
     "text": [
      "INFO: Tüm veri kümesi için { IMG_FULLPATH: CAPTION } dict yapısı oluşturuldu.\n"
     ]
    }
   ],
   "source": [
    "dataset = helper.createDictStructure(dataset=data_df,images_fullpath=images_path)"
   ]
  },
  {
   "cell_type": "code",
   "execution_count": 8,
   "metadata": {
    "id": "IK0GL_nM6Rfg"
   },
   "outputs": [],
   "source": [
    "all_images_fullpaths = list(dataset.keys())\n",
    "all_findings = list(dataset.values())"
   ]
  },
  {
   "cell_type": "code",
   "execution_count": 9,
   "metadata": {
    "colab": {
     "base_uri": "https://localhost:8080/"
    },
    "id": "S7tdj3PV6RdL",
    "outputId": "fb601970-ce49-4612-cb44-458bddaa793b"
   },
   "outputs": [
    {
     "name": "stdout",
     "output_type": "stream",
     "text": [
      "img_name_vector[0]: /content/drive/MyDrive/bm496_7haziran/dataset/frontal_images/1_1_IM-0001-4001.png\n",
      "train_captions[0]: <start> cardiac silhouette mediastinum size within normal limits no pulmonary edema no focal consolidation no pleural effusion no evidence pneumothorax <end>\n"
     ]
    }
   ],
   "source": [
    "print(\"img_name_vector[0]:\",all_images_fullpaths[0])\n",
    "print(\"train_captions[0]:\",all_findings[0])"
   ]
  },
  {
   "cell_type": "code",
   "execution_count": 10,
   "metadata": {
    "id": "BkUJMiQz6RbK"
   },
   "outputs": [],
   "source": [
    "def goruntuYukle(image_path):\n",
    "   img = read_file(image_path)\n",
    "   img = decode_png(img, channels=3)\n",
    "   img = resize(img, (299, 299))\n",
    "   img = preprocess_input(img)\n",
    "   return img, image_path"
   ]
  },
  {
   "cell_type": "code",
   "execution_count": 11,
   "metadata": {
    "colab": {
     "base_uri": "https://localhost:8080/"
    },
    "id": "umVvTBHT6RZS",
    "outputId": "f5483b8c-e0a5-430d-f764-546a63a23c83"
   },
   "outputs": [
    {
     "name": "stdout",
     "output_type": "stream",
     "text": [
      "Img_path: /content/drive/MyDrive/bm496_7haziran/dataset/frontal_images/1_1_IM-0001-4001.png \n",
      "Img.shape: (299, 299, 3)\n"
     ]
    }
   ],
   "source": [
    "img,img_path = goruntuYukle(all_images_fullpaths[0])\n",
    "print(\"Img_path:\",img_path,\"\\nImg.shape:\",img.shape)"
   ]
  },
  {
   "cell_type": "code",
   "execution_count": 12,
   "metadata": {
    "id": "yxIULEHQ6RWF"
   },
   "outputs": [],
   "source": [
    "BATCH_SIZE = 64 \n",
    "image_dataset = Dataset.from_tensor_slices(all_images_fullpaths).map(goruntuYukle, num_parallel_calls=AUTOTUNE).batch(BATCH_SIZE)"
   ]
  },
  {
   "cell_type": "code",
   "execution_count": 13,
   "metadata": {
    "colab": {
     "base_uri": "https://localhost:8080/"
    },
    "id": "BoEwM8xe6RTo",
    "outputId": "60a868c1-cc7e-4e35-ed1b-edf7ab63ce2f"
   },
   "outputs": [
    {
     "name": "stdout",
     "output_type": "stream",
     "text": [
      "Downloading data from https://storage.googleapis.com/tensorflow/keras-applications/inception_v3/inception_v3_weights_tf_dim_ordering_tf_kernels_notop.h5\n",
      "87916544/87910968 [==============================] - 1s 0us/step\n",
      "87924736/87910968 [==============================] - 1s 0us/step\n"
     ]
    }
   ],
   "source": [
    "# Öznitelik çıkarma \n",
    "def load_extraction_model(extraction_model):\n",
    "  input_shape = extraction_model.input\n",
    "  output_shape = extraction_model.layers[-1].output\n",
    "  extraction_model = Model(input_shape, output_shape)\n",
    "  return extraction_model\n",
    "\n",
    "IMAGE_SIZE = (299,299,3)\n",
    "extraction_model_path = InceptionV3(include_top=False,input_shape=IMAGE_SIZE) # Inception V3 mimarisini default olarak weights='imagenet' olarak almaktadır. \n",
    "\n",
    "extraction_model = load_extraction_model(extraction_model_path)"
   ]
  },
  {
   "cell_type": "code",
   "execution_count": 14,
   "metadata": {
    "colab": {
     "base_uri": "https://localhost:8080/"
    },
    "id": "GE7WB5Hm6RO1",
    "outputId": "37bc9133-467c-4add-9eae-5252bf06a392"
   },
   "outputs": [
    {
     "name": "stdout",
     "output_type": "stream",
     "text": [
      "Extraction Model\n",
      "Input shape: (None, 299, 299, 3)\n",
      "Output shape:(None, 8, 8, 2048)\n",
      "PATH: /content/drive/MyDrive/bm496_7haziran/modeller/extraction_model2\n",
      "WARNING:tensorflow:Compiled the loaded model, but the compiled metrics have yet to be built. `model.compile_metrics` will be empty until you train or evaluate the model.\n",
      "INFO:tensorflow:Assets written to: /content/drive/MyDrive/bm496_7haziran/modeller/extraction_model2/assets\n"
     ]
    }
   ],
   "source": [
    "print(\"Extraction Model\\nInput shape: {}\\nOutput shape:{}\".format(extraction_model.input_shape,extraction_model.output_shape))\n",
    "extraction_model_path = os.path.join(kayit_yeri,'modeller','extraction_model2')\n",
    "print(\"PATH:\",extraction_model_path)\n",
    "extraction_model.save(extraction_model_path,save_format='tf')"
   ]
  },
  {
   "cell_type": "code",
   "execution_count": 15,
   "metadata": {
    "colab": {
     "base_uri": "https://localhost:8080/"
    },
    "id": "MfNIMGGA6RKM",
    "outputId": "0b0bc35c-7011-421f-da4a-7f0f5d9febf4"
   },
   "outputs": [
    {
     "name": "stdout",
     "output_type": "stream",
     "text": [
      "WARNING:tensorflow:No training configuration found in save file, so the model was *not* compiled. Compile it manually.\n",
      "FROM FILE : Extraction Model\n",
      "Input shape: (None, 299, 299, 3)\n",
      "Output shape:(None, 8, 8, 2048)\n"
     ]
    }
   ],
   "source": [
    "extractionModel_fromFile = load_model(extraction_model_path)\n",
    "print(\"FROM FILE : Extraction Model\\nInput shape: {}\\nOutput shape:{}\".format(extractionModel_fromFile.input_shape,extractionModel_fromFile.output_shape))"
   ]
  },
  {
   "cell_type": "code",
   "execution_count": 16,
   "metadata": {
    "colab": {
     "base_uri": "https://localhost:8080/",
     "height": 72
    },
    "id": "-3czSETy6RHx",
    "outputId": "9f35eb3d-482c-43e1-b6d3-501d7da59e0e"
   },
   "outputs": [
    {
     "data": {
      "application/vnd.google.colaboratory.intrinsic+json": {
       "type": "string"
      },
      "text/plain": [
       "'\\nfor img, path in tqdm(image_dataset):\\n   batch_features = extractionModel_fromFile(img)\\n   batch_features = tf.reshape(batch_features,(batch_features.shape[0], -1, batch_features.shape[3]))\\n   for bf, p in zip(batch_features, path):\\n      filename = p.numpy().decode(\"utf-8\").split(\\'\\\\\\')[-1].split(\\'.\\')[0]\\n      path_of_feature = os.path.join(features_filepath,filename)\\n      np.save(path_of_feature, bf.numpy())\\n'"
      ]
     },
     "execution_count": 16,
     "metadata": {
      "tags": []
     },
     "output_type": "execute_result"
    }
   ],
   "source": [
    "features_filepath = os.path.join(dataset_path,'frontal_images_features')\n",
    "\n",
    "# Öznitelikleri çıkartıp tekrar kullanmak için npy formatında kaydet.\n",
    "'''\n",
    "for img, path in tqdm(image_dataset):\n",
    "   batch_features = extractionModel_fromFile(img)\n",
    "   batch_features = tf.reshape(batch_features,(batch_features.shape[0], -1, batch_features.shape[3]))\n",
    "   for bf, p in zip(batch_features, path):\n",
    "      filename = p.numpy().decode(\"utf-8\").split('\\\\')[-1].split('.')[0]\n",
    "      path_of_feature = os.path.join(features_filepath,filename)\n",
    "      np.save(path_of_feature, bf.numpy())\n",
    "'''"
   ]
  },
  {
   "cell_type": "code",
   "execution_count": null,
   "metadata": {
    "id": "fIf4B19_6pNU"
   },
   "outputs": [],
   "source": []
  },
  {
   "cell_type": "code",
   "execution_count": 17,
   "metadata": {
    "id": "dCRgkI4X6RFY"
   },
   "outputs": [],
   "source": [
    "tokenizer = Tokenizer(oov_token=\"<unk>\",filters='!\"#$%&()*+.,-/:;=?@[\\]^_`{|}~ ') # sözlük olustur\n",
    "tokenizer.fit_on_texts(all_findings) \n",
    "tokenizer.word_index['<pad>'] = 0\n",
    "tokenizer.index_word[0] = '<pad>'\n",
    "\n",
    "captions_sequences = tokenizer.texts_to_sequences(all_findings) # sequence'e dönüştür.\n",
    "captions_vector = pad_sequences(captions_sequences, padding='post') # padding uygula \n",
    "VOCABSIZE = len(tokenizer.word_index)+1\n",
    "SEQ_LENGTH = len(captions_vector[0])"
   ]
  },
  {
   "cell_type": "code",
   "execution_count": 18,
   "metadata": {
    "colab": {
     "base_uri": "https://localhost:8080/"
    },
    "id": "PUWq_q0e6RDQ",
    "outputId": "c633fa52-b669-4d06-db63-efbacafaa87c"
   },
   "outputs": [
    {
     "name": "stdout",
     "output_type": "stream",
     "text": [
      "Tokenizer examples: ['<unk>', 'no', 'normal', '<start>', '<end>', 'pleural', 'pneumothorax', 'effusion', 'heart', 'lungs'] \n",
      "Vocabsize: 1386 \n",
      "Max Sequence Length: 44\n"
     ]
    }
   ],
   "source": [
    "print(\"Tokenizer examples:\",list(tokenizer.word_index.keys())[:10],\"\\nVocabsize:\",VOCABSIZE,\"\\nMax Sequence Length:\",SEQ_LENGTH)"
   ]
  },
  {
   "cell_type": "code",
   "execution_count": 19,
   "metadata": {
    "id": "ze3l8YlR6RA-"
   },
   "outputs": [],
   "source": [
    "img_fullpaths_trainval, img_fullpaths_test, findings_trainval, findings_test = train_test_split(all_images_fullpaths,captions_vector, test_size=0.05, random_state=0)\n",
    "img_fullpaths_train, img_fullpaths_val, findings_train, findings_val = train_test_split(img_fullpaths_trainval,findings_trainval, test_size=0.05, random_state=0)"
   ]
  },
  {
   "cell_type": "code",
   "execution_count": 22,
   "metadata": {
    "id": "NZRn4r6_6Q8S"
   },
   "outputs": [],
   "source": [
    "BATCH_SIZE = 64 \n",
    "BUFFER_SIZE = 1000\n",
    "\n",
    "def oznitelikBul(img_name, cap):\n",
    "   filename = img_name.decode('utf-8').split('\\\\')[-1].split('.')[0] + '.npy'\n",
    "   img_feature_filepath = os.path.join(features_filepath,filename)\n",
    "   img_tensor = np.load(img_feature_filepath)\n",
    "   return img_tensor, cap\n",
    "\n",
    "# {Image full path: öznitelik değeri} şeklinde tf map yapısında dataset oluştur.\n",
    "dataset = tf.data.Dataset.from_tensor_slices((img_fullpaths_train, findings_train))\n",
    "dataset = dataset.map(lambda item1, item2: tf.numpy_function(oznitelikBul, [item1, item2], [tf.float32, tf.int32]),num_parallel_calls=AUTOTUNE)\n",
    "dataset = dataset.shuffle(BUFFER_SIZE).batch(BATCH_SIZE)\n",
    "dataset = dataset.prefetch(buffer_size=AUTOTUNE)"
   ]
  },
  {
   "cell_type": "code",
   "execution_count": 23,
   "metadata": {
    "id": "kuZuItVa6Q5-"
   },
   "outputs": [],
   "source": [
    "# Positional Encoding yapmak için kullanacağımız nesne , görüntüler için toEncoder fonksiyonu, captionlar için toDecoder fonksiyonu kullanılır.\n",
    "# Matematiksel formüller Attention is All you need makalesinden alınmıştır.\n",
    "class PositionEncoder:\n",
    "  def aci_hesapla(self,pos, i, embed_dim):\n",
    "    aci_orani = 1 / np.power(10000, (2 * (i//2)) / np.float32(embed_dim))\n",
    "    return pos * aci_orani\n",
    "\n",
    "  def toDecoder(self,pos, embed_dim):\n",
    "    aci_orani = self.aci_hesapla(np.arange(pos)[:, np.newaxis],np.arange(embed_dim)[np.newaxis, :],embed_dim)\n",
    "\n",
    "    aci_orani[:, 0::2] = np.sin(aci_orani[:, 0::2])\n",
    "    aci_orani[:, 1::2] = np.cos(aci_orani[:, 1::2])\n",
    "    pos_encoding = aci_orani[np.newaxis, ...]\n",
    "    return tf.cast(pos_encoding, dtype=tf.float32)\n",
    "\n",
    "  def toEncoder(self,satir,sutun,embed_dim):\n",
    "    assert embed_dim % 2 == 0\n",
    "    satir_pos = np.repeat(np.arange(satir),sutun)[:,np.newaxis]\n",
    "    sutun_pos = np.repeat(np.expand_dims(np.arange(sutun),0),satir,axis=0).reshape(-1,1)\n",
    "\n",
    "    aci_orani_satir = self.aci_hesapla(satir_pos,np.arange(embed_dim//2)[np.newaxis,:],embed_dim//2)\n",
    "    aci_orani_sutun = self.aci_hesapla(sutun_pos,np.arange(embed_dim//2)[np.newaxis,:],embed_dim//2)\n",
    "\n",
    "    aci_orani_satir[:, 0::2] = np.sin(aci_orani_satir[:, 0::2])\n",
    "    aci_orani_satir[:, 1::2] = np.cos(aci_orani_satir[:, 1::2])\n",
    "    aci_orani_sutun[:, 0::2] = np.sin(aci_orani_sutun[:, 0::2])\n",
    "    aci_orani_sutun[:, 1::2] = np.cos(aci_orani_sutun[:, 1::2])\n",
    "    pos_encoding = np.concatenate([aci_orani_satir,aci_orani_sutun],axis=1)[np.newaxis, ...]\n",
    "    return tf.cast(pos_encoding, dtype=tf.float32)\n",
    "\n",
    "# Maskeleme operasyonu eğer 0 ise True değilse False döndürür. daha sonra bu dizi float32 formatına convret edilip standart input shape'ine resize edilir.\n",
    "def create_padding_mask(seq):\n",
    "   seq = tf.cast(tf.math.equal(seq, 0), tf.float32)\n",
    "   return seq[:, tf.newaxis, tf.newaxis, :]  # (batch_size, 1, 1, seq_len)\n",
    "\n",
    "# Maske oluşturma . \n",
    "def create_look_ahead_mask(size):\n",
    "   mask = 1 - tf.linalg.band_part(tf.ones((size, size)), -1, 0)\n",
    "   return mask  # (seq_len, seq_len)\n",
    "\n",
    "# Scaled dot product [q*k / sqrt(dk)] * v\n",
    "def scaled_dot_product_attention(q, k, v, mask):\n",
    "   matmul_qk = tf.matmul(q, k, transpose_b=True)  # (..., seq_len_q, seq_len_k)\n",
    "   dimension_of_k = tf.cast(tf.shape(k)[-1], tf.float32)\n",
    "   scaled_attention_logits = matmul_qk / tf.math.sqrt(dimension_of_k)\n",
    "   if mask is not None:\n",
    "      scaled_attention_logits += (mask * -1e9) \n",
    "\n",
    "   attention_weights = tf.nn.softmax(scaled_attention_logits, axis=-1) \n",
    "   output = tf.matmul(attention_weights, v)  # (..., seq_len_q, depth_v)\n",
    "\n",
    "   return output, attention_weights\n",
    "\n",
    "# Çok kafalı yapı oluşturma \n",
    "class MultiHeadAttention(layers.Layer):\n",
    "   def __init__(self, embed_dim, nheads):\n",
    "      super(MultiHeadAttention, self).__init__()\n",
    "      self.nheads = nheads # Kafa sayısı \n",
    "      self.embed_dim = embed_dim # Embedding uzayı boyutu \n",
    "      assert embed_dim % self.nheads == 0 # Embedding kafa sayısına bölünüyor mu kontrol et . Yoksa hata verir.\n",
    "      self.depth = embed_dim // self.nheads\n",
    "      self.wq = tf.keras.layers.Dense(embed_dim) # Query ağırlıklları\n",
    "      self.wk = tf.keras.layers.Dense(embed_dim) # Key ağırlıkları\n",
    "      self.wv = tf.keras.layers.Dense(embed_dim) # Value ağırlıkları\n",
    "      self.dense = tf.keras.layers.Dense(embed_dim) # Birleştirici katman \n",
    "\n",
    "   def split_heads(self, x, batch_size):\n",
    "      x = tf.reshape(x, (batch_size, -1, self.nheads, self.depth)) # embed dim // kafa sayısına göre buranın shape'i belirlenir. Bu sebeple embed dim head'e bölünebilir olmaldıır.\n",
    "      return tf.transpose(x, perm=[0, 2, 1, 3])\n",
    "\n",
    "   def call(self, v, k, q, mask=None):\n",
    "      batch_size = tf.shape(q)[0]\n",
    "      q = self.wq(q)  # (batch_size, seq_len, embed_dim)\n",
    "      k = self.wk(k)  # (batch_size, seq_len, embed_dim)\n",
    "      v = self.wv(v)  # (batch_size, seq_len, embed_dim)\n",
    "\n",
    "      q = self.split_heads(q, batch_size)  # (batch_size, nheads, seq_len_q, depth)\n",
    "      k = self.split_heads(k, batch_size)  # (batch_size, nheads, seq_len_k, depth)\n",
    "      v = self.split_heads(v, batch_size)  # (batch_size, nheads, seq_len_v, depth)\n",
    "\n",
    "      scaled_attention, attention_weights = scaled_dot_product_attention(q, k, v, mask)\n",
    "      scaled_attention = tf.transpose(scaled_attention, perm=[0, 2, 1, 3])  # (batch_size, seq_len_q, nheads, depth)\n",
    "\n",
    "      concat_attention = tf.reshape(scaled_attention,(batch_size, -1, self.embed_dim))  # (batch_size, seq_len_q, embed_dim)\n",
    "\n",
    "      output = self.dense(concat_attention)  # (batch_size, seq_len_q, embed_dim)\n",
    "      return output, attention_weights\n",
    "\n",
    "def point_wise_feed_forward_network(embed_dim, ffn_dim):\n",
    "     return tf.keras.Sequential([ tf.keras.layers.Dense(ffn_dim, activation='relu'), tf.keras.layers.Dense(embed_dim)])  # (batch_size, seq_len, embed_dim)])\n",
    "\n",
    "# Görüntü inputunu geçirdiğimiz encoder blok . \n",
    "# Attention is all you need Makalesindeki ypaıya göre oluşturulmuştur.\n",
    "# Bir encoder katmanı\n",
    "class EncoderLayer(layers.Layer):\n",
    "   def __init__(self, embed_dim, num_heads, ffn_dim, rate=0.1):\n",
    "      super(EncoderLayer, self).__init__()\n",
    "      self.mha = MultiHeadAttention(embed_dim, num_heads) # multi head attention\n",
    "      self.ffn = point_wise_feed_forward_network(embed_dim, ffn_dim) # Feed forward network \n",
    "      # Normalization layerları\n",
    "      self.layernorm1 = tf.keras.layers.LayerNormalization(epsilon=1e-6)\n",
    "      self.layernorm2 = tf.keras.layers.LayerNormalization(epsilon=1e-6)\n",
    "      #Dropout layerları ( overfiti azaltmak için )\n",
    "      self.dropout1 = tf.keras.layers.Dropout(rate)\n",
    "      self.dropout2 = tf.keras.layers.Dropout(rate)\n",
    "\n",
    "\n",
    "   def call(self, x, training, mask=None):\n",
    "      attn_output, _ = self.mha(x, x, x, mask)  # (batch_size, input_seq_len, embed_dim) # attention çıktısını al \n",
    "      attn_output = self.dropout1(attn_output, training=training) # bu çıktıyı dropouttan geçir \n",
    "      out1 = self.layernorm1(x + attn_output)  # (batch_size, input_seq_len, embed_dim) # önceki input ile çıktıyı concat et sonra normalize et. \n",
    "\n",
    "      ffn_output = self.ffn(out1)  # (batch_size, input_seq_len, embed_dim) # feed forwarddan geçir \n",
    "      ffn_output = self.dropout2(ffn_output, training=training) # çıktısını al dropouttan geçir \n",
    "      out2 = self.layernorm2(out1 + ffn_output)  # (batch_size, input_seq_len, embed_dim) # inputu ve çıktısını concat et normalize et . \n",
    "      return out2\n",
    "    \n",
    "# Captionları geçirdiğimiz ve ilerleyen aşamalarda encoder'ın çıktısını kullandığımız blok.\n",
    "# Attention is all you need Makalesindeki ypaıya göre oluşturulmuştur.\n",
    "# Bir decoder katmanı\n",
    "class DecoderLayer(layers.Layer):\n",
    "   def __init__(self, embed_dim, nheads, ffn_dim, rate=0.1):\n",
    "      super(DecoderLayer, self).__init__()\n",
    "      self.mha1 = MultiHeadAttention(embed_dim, nheads)\n",
    "      self.mha2 = MultiHeadAttention(embed_dim, nheads)\n",
    "      # Encoder'ın çıktısı ile decoderı birleştiren katman \n",
    "      self.ffn = point_wise_feed_forward_network(embed_dim, ffn_dim)\n",
    "      # Normalization layerları \n",
    "      self.layernorm1 = tf.keras.layers.LayerNormalization(epsilon=1e-6)\n",
    "      self.layernorm2 = tf.keras.layers.LayerNormalization(epsilon=1e-6)\n",
    "      self.layernorm3 = tf.keras.layers.LayerNormalization(epsilon=1e-6)\n",
    "      # Overfit kaçınmak için dropout katmanları \n",
    "      self.dropout1 = tf.keras.layers.Dropout(rate)\n",
    "      self.dropout2 = tf.keras.layers.Dropout(rate)\n",
    "      self.dropout3 = tf.keras.layers.Dropout(rate)\n",
    "\n",
    "   def call(self, x, enc_output, training,look_ahead_mask=None, padding_mask=None):\n",
    "      attn1, attn_weights_block1 = self.mha1(x, x, x, look_ahead_mask)  # (batch_size, target_seq_len, embed_dim)\n",
    "      attn1 = self.dropout1(attn1, training=training)\n",
    "      out1 = self.layernorm1(attn1 + x)\n",
    "\n",
    "      attn2, attn_weights_block2 = self.mha2(enc_output, enc_output, out1, padding_mask) \n",
    "      attn2 = self.dropout2(attn2, training=training)\n",
    "      out2 = self.layernorm2(attn2 + out1)  # (batch_size, target_seq_len, embed_dim)\n",
    "\n",
    "      ffn_output = self.ffn(out2)  # (batch_size, target_seq_len, embed_dim)\n",
    "      ffn_output = self.dropout3(ffn_output, training=training)\n",
    "      out3 = self.layernorm3(ffn_output + out2)  # (batch_size, target_seq_len, embed_dim)\n",
    "\n",
    "      return out3, attn_weights_block1, attn_weights_block2\n",
    "\n",
    "# Encoder bloğu \n",
    "class Encoder(layers.Layer):\n",
    "   def __init__(self, num_layers, embed_dim, nheads, ffn_dim, row_size,col_size,rate=0.1):\n",
    "      super(Encoder, self).__init__()\n",
    "      self.embed_dim = embed_dim\n",
    "      self.num_layers = num_layers\n",
    "\n",
    "      self.embedding = tf.keras.layers.Dense(self.embed_dim,activation='relu')\n",
    "      self.pos_encoding = PositionEncoder().toEncoder(row_size,col_size,self.embed_dim)\n",
    "\n",
    "      self.enc_layers = [EncoderLayer(embed_dim, nheads, ffn_dim, rate) for _ in range(num_layers)] # Encoder katmanı katman sayısı kadar oluştur\n",
    "      self.dropout = tf.keras.layers.Dropout(rate)\n",
    "\n",
    "   def call(self, x, training, mask=None):\n",
    "      seq_len = tf.shape(x)[1]\n",
    "      x = self.embedding(x)  # (batch_size, input_seq_len(H*W), embed_dim)\n",
    "      x += self.pos_encoding[:, :seq_len, :]\n",
    "      x = self.dropout(x, training=training)\n",
    "\n",
    "      for i in range(self.num_layers):\n",
    "         x = self.enc_layers[i](x, training, mask)\n",
    "\n",
    "      return x  # (batch_size, input_seq_len, embed_dim)\n",
    "\n",
    "# Decoder bloğu \n",
    "\n",
    "class Decoder(layers.Layer):\n",
    "   def __init__(self, num_layers,embed_dim,nheads,ffn_dim, vocabsize, rate=0.1):\n",
    "      super(Decoder, self).__init__()\n",
    "      self.embed_dim = embed_dim\n",
    "      self.num_layers = num_layers\n",
    "\n",
    "      self.embedding = tf.keras.layers.Embedding(vocabsize, embed_dim)\n",
    "      self.pos_encoding = PositionEncoder().toDecoder(vocabsize, embed_dim) # hizalama \n",
    "\n",
    "      self.dec_layers = [DecoderLayer(embed_dim, nheads, ffn_dim, rate)for _ in range(num_layers)] # Decoder katmanı katman sayısı kadar oluştur\n",
    "      self.dropout = tf.keras.layers.Dropout(rate)\n",
    "\n",
    "   def call(self, x, enc_output, training,look_ahead_mask=None, padding_mask=None):\n",
    "      seq_len = tf.shape(x)[1]\n",
    "      attention_weights = {}\n",
    "\n",
    "      x = self.embedding(x)  # (batch_size, target_seq_len, embed_dim)\n",
    "      x *= tf.math.sqrt(tf.cast(self.embed_dim, tf.float32))\n",
    "      x += self.pos_encoding[:, :seq_len, :]\n",
    "      x = self.dropout(x, training=training)\n",
    "\n",
    "      for i in range(self.num_layers):\n",
    "         x, block1, block2 = self.dec_layers[i](x, enc_output, training,look_ahead_mask, padding_mask)\n",
    "         \n",
    "         attention_weights['decoder_layer{}_block1'.format(i+1)] = block1\n",
    "         attention_weights['decoder_layer{}_block2'.format(i+1)] = block2\n",
    "\n",
    "      return x, attention_weights\n",
    "\n",
    "\n",
    "class Transformer(Model):\n",
    "   def __init__(self, num_layers, embed_dim, nheads, ffn_dim,row_size,col_size,vocabsize, rate=0.1):\n",
    "      super(Transformer, self).__init__()\n",
    "      self.encoder = Encoder(num_layers, embed_dim, nheads, ffn_dim,row_size,col_size, rate) # Encoder bloğunu oluştur\n",
    "      self.decoder = Decoder(num_layers, embed_dim, nheads, ffn_dim,vocabsize, rate)\n",
    "      self.final_layer = tf.keras.layers.Dense(vocabsize) \n",
    "\n",
    "   def call(self, inp, tar, training,look_ahead_mask=None,dec_padding_mask=None,enc_padding_mask=None ):\n",
    "      enc_output = self.encoder(inp, training, enc_padding_mask)  # (batch_size, inp_seq_len, embed_dim  )\n",
    "      dec_output, attention_weights = self.decoder(tar, enc_output, training, look_ahead_mask, dec_padding_mask)\n",
    "      final_output = self.final_layer(dec_output)  # (batch_size, tar_seq_len, vocabsize)\n",
    "      return final_output, attention_weights"
   ]
  },
  {
   "cell_type": "code",
   "execution_count": 24,
   "metadata": {
    "id": "-xwIrQjN6Q3t"
   },
   "outputs": [],
   "source": [
    "NUM_LAYER = 6 # encoder-decoder blok tekrar sayısı\n",
    "EMBED_DIM = 512 # embedding dimension\n",
    "FFN_DIM = 3072 #feed-forward network dimension \n",
    "NHEADS = 8 # kafa sayısı\n",
    "ROW_SIZE = 8 # encoder-input- hizalama satir sayisi\n",
    "COL_SIZE = 8 # encoder-input- hizalama sutun sayisi\n",
    "DROPOUT_RATE = 0.1 # dropout oranı "
   ]
  },
  {
   "cell_type": "code",
   "execution_count": 25,
   "metadata": {
    "id": "sVvlarS56Q1X"
   },
   "outputs": [],
   "source": [
    "class CustomSchedule(tf.keras.optimizers.schedules.LearningRateSchedule):\n",
    "   def __init__(self, embed_dim, warmup_steps=4000):\n",
    "      super(CustomSchedule, self).__init__()\n",
    "      self.embed_dim = embed_dim\n",
    "      self.embed_dim = tf.cast(self.embed_dim, tf.float32)\n",
    "      self.warmup_steps = warmup_steps\n",
    "\n",
    "   def __call__(self, step):\n",
    "      arg1 = tf.math.rsqrt(step)\n",
    "      arg2 = step * (self.warmup_steps ** -1.5)\n",
    "      return tf.math.rsqrt(self.embed_dim) * tf.math.minimum(arg1, arg2)"
   ]
  },
  {
   "cell_type": "code",
   "execution_count": 26,
   "metadata": {
    "id": "Fao3QW6w7KrX"
   },
   "outputs": [],
   "source": [
    "learning_rate = CustomSchedule(EMBED_DIM)\n",
    "optimizer = tf.keras.optimizers.Adam(learning_rate, beta_1=0.9, beta_2=0.98,epsilon=1e-9)\n",
    "loss_object = tf.keras.losses.SparseCategoricalCrossentropy(from_logits=True, reduction='none')\n",
    "\n",
    "def loss_function(real, pred):\n",
    "   mask = tf.math.logical_not(tf.math.equal(real, 0))\n",
    "   loss_ = loss_object(real, pred)\n",
    "   mask = tf.cast(mask, dtype=loss_.dtype)\n",
    "   loss_ *= mask\n",
    "   return tf.reduce_sum(loss_)/tf.reduce_sum(mask)"
   ]
  },
  {
   "cell_type": "code",
   "execution_count": 27,
   "metadata": {
    "id": "vC5AcZwA7KgZ"
   },
   "outputs": [],
   "source": [
    "train_loss = tf.keras.metrics.Mean(name='train_loss')\n",
    "train_accuracy = tf.keras.metrics.SparseCategoricalAccuracy(name='train_accuracy')\n",
    "transformer = Transformer(NUM_LAYER,EMBED_DIM,NHEADS,FFN_DIM,ROW_SIZE,COL_SIZE,VOCABSIZE,rate=DROPOUT_RATE)"
   ]
  },
  {
   "cell_type": "code",
   "execution_count": 28,
   "metadata": {
    "id": "RCDvP-Cg7N2C"
   },
   "outputs": [],
   "source": [
    "def create_masks_decoder(seq):\n",
    "   look_ahead_mask = create_look_ahead_mask(tf.shape(seq)[1])\n",
    "   dec_target_padding_mask = create_padding_mask(seq)\n",
    "   combined_mask = tf.maximum(dec_target_padding_mask, look_ahead_mask)\n",
    "   return combined_mask"
   ]
  },
  {
   "cell_type": "code",
   "execution_count": 29,
   "metadata": {
    "id": "zLBWONhf7Nzy"
   },
   "outputs": [],
   "source": [
    "@tf.function\n",
    "def train_step(img_tensor, seq):\n",
    "   seq_inp = seq[:, :-1]\n",
    "   seq_real = seq[:, 1:]\n",
    "   decoder_mask = create_masks_decoder(seq_inp)\n",
    "   with tf.GradientTape() as tape:\n",
    "      predictions, _ = transformer(img_tensor, seq_inp,True, decoder_mask)\n",
    "      loss = loss_function(seq_real, predictions)\n",
    "\n",
    "   gradients = tape.gradient(loss, transformer.trainable_variables)   \n",
    "   optimizer.apply_gradients(zip(gradients, transformer.trainable_variables))\n",
    "   train_loss(loss)\n",
    "   train_accuracy(seq_real, predictions)\n",
    "   "
   ]
  },
  {
   "cell_type": "code",
   "execution_count": 31,
   "metadata": {
    "colab": {
     "base_uri": "https://localhost:8080/"
    },
    "id": "cbB3QFS87QVs",
    "outputId": "086bae82-182f-4d09-b074-78a47f5bca20"
   },
   "outputs": [
    {
     "name": "stdout",
     "output_type": "stream",
     "text": [
      "Eğitim başladı.\\EPOCHS:50\tBATCH_SIZE:64\n",
      "Epoch 1 Batch 0 Loss 7.4394 Accuracy 0.0007\n",
      "Epoch 1 Batch 20 Loss 7.1995 Accuracy 0.0105\n",
      "Epoch 1 Batch 40 Loss 6.7928 Accuracy 0.0197\n",
      "Epoch 1 Loss 6.7246 Accuracy 0.0203\n",
      "Time taken for 1 epoch: 1038.553260087967 secs\n",
      "\n",
      "Epoch 2 Batch 0 Loss 6.1418 Accuracy 0.0302\n",
      "Epoch 2 Batch 20 Loss 5.8384 Accuracy 0.0298\n",
      "Epoch 2 Batch 40 Loss 5.7545 Accuracy 0.0298\n",
      "Epoch 2 Loss 5.7368 Accuracy 0.0299\n",
      "Time taken for 1 epoch: 19.579822301864624 secs\n",
      "\n",
      "Epoch 3 Batch 0 Loss 5.5354 Accuracy 0.0316\n",
      "Epoch 3 Batch 20 Loss 5.4147 Accuracy 0.0433\n",
      "Epoch 3 Batch 40 Loss 5.3122 Accuracy 0.0526\n",
      "Epoch 3 Loss 5.2775 Accuracy 0.0547\n",
      "Time taken for 1 epoch: 19.789469957351685 secs\n",
      "\n",
      "Epoch 4 Batch 0 Loss 4.9324 Accuracy 0.0959\n",
      "Epoch 4 Batch 20 Loss 4.7363 Accuracy 0.0998\n",
      "Epoch 4 Batch 40 Loss 4.5567 Accuracy 0.1136\n",
      "Epoch 4 Loss 4.5251 Accuracy 0.1156\n",
      "Time taken for 1 epoch: 19.894974946975708 secs\n",
      "\n",
      "Epoch 5 Batch 0 Loss 4.0656 Accuracy 0.1392\n",
      "Epoch 5 Batch 20 Loss 3.9641 Accuracy 0.1525\n",
      "Epoch 5 Batch 40 Loss 3.8398 Accuracy 0.1628\n",
      "Epoch 5 Loss 3.8276 Accuracy 0.1637\n",
      "Time taken for 1 epoch: 20.026495456695557 secs\n",
      "\n",
      "Epoch 6 Batch 0 Loss 3.8132 Accuracy 0.1639\n",
      "Epoch 6 Batch 20 Loss 3.4438 Accuracy 0.1907\n",
      "Epoch 6 Batch 40 Loss 3.3631 Accuracy 0.1964\n",
      "Epoch 6 Loss 3.3610 Accuracy 0.1971\n",
      "Time taken for 1 epoch: 20.152114152908325 secs\n",
      "\n",
      "Epoch 7 Batch 0 Loss 3.2514 Accuracy 0.2024\n",
      "Epoch 7 Batch 20 Loss 3.1114 Accuracy 0.2133\n",
      "Epoch 7 Batch 40 Loss 3.0260 Accuracy 0.2203\n",
      "Epoch 7 Loss 3.0100 Accuracy 0.2213\n",
      "Time taken for 1 epoch: 20.28405785560608 secs\n",
      "\n",
      "Epoch 8 Batch 0 Loss 3.1146 Accuracy 0.2082\n",
      "Epoch 8 Batch 20 Loss 2.7852 Accuracy 0.2351\n",
      "Epoch 8 Batch 40 Loss 2.7740 Accuracy 0.2374\n",
      "Epoch 8 Loss 2.7727 Accuracy 0.2387\n",
      "Time taken for 1 epoch: 20.388083934783936 secs\n",
      "\n",
      "Epoch 9 Batch 0 Loss 2.7121 Accuracy 0.2467\n",
      "Epoch 9 Batch 20 Loss 2.6141 Accuracy 0.2504\n",
      "Epoch 9 Batch 40 Loss 2.5632 Accuracy 0.2545\n",
      "Epoch 9 Loss 2.5740 Accuracy 0.2548\n",
      "Time taken for 1 epoch: 20.514615297317505 secs\n",
      "\n",
      "Epoch 10 Batch 0 Loss 2.4919 Accuracy 0.2605\n",
      "Epoch 10 Batch 20 Loss 2.4527 Accuracy 0.2655\n",
      "Epoch 10 Batch 40 Loss 2.3940 Accuracy 0.2688\n",
      "Epoch 10 Loss 2.3847 Accuracy 0.2680\n",
      "Time taken for 1 epoch: 20.512057304382324 secs\n",
      "\n",
      "Epoch 11 Batch 0 Loss 2.4778 Accuracy 0.2740\n",
      "Epoch 11 Batch 20 Loss 2.2734 Accuracy 0.2780\n",
      "Epoch 11 Batch 40 Loss 2.2666 Accuracy 0.2777\n",
      "Epoch 11 Loss 2.2606 Accuracy 0.2784\n",
      "Time taken for 1 epoch: 20.49982237815857 secs\n",
      "\n",
      "Epoch 12 Batch 0 Loss 2.1123 Accuracy 0.3052\n",
      "Epoch 12 Batch 20 Loss 2.1630 Accuracy 0.2845\n",
      "Epoch 12 Batch 40 Loss 2.1243 Accuracy 0.2880\n",
      "Epoch 12 Loss 2.1275 Accuracy 0.2879\n",
      "Time taken for 1 epoch: 20.59684133529663 secs\n",
      "\n",
      "Epoch 13 Batch 0 Loss 2.0158 Accuracy 0.3034\n",
      "Epoch 13 Batch 20 Loss 2.0275 Accuracy 0.2959\n",
      "Epoch 13 Batch 40 Loss 2.0186 Accuracy 0.2970\n",
      "Epoch 13 Loss 2.0173 Accuracy 0.2971\n",
      "Time taken for 1 epoch: 20.677571773529053 secs\n",
      "\n",
      "Epoch 14 Batch 0 Loss 1.9981 Accuracy 0.3049\n",
      "Epoch 14 Batch 20 Loss 1.9172 Accuracy 0.3037\n",
      "Epoch 14 Batch 40 Loss 1.9176 Accuracy 0.3037\n",
      "Epoch 14 Loss 1.9171 Accuracy 0.3041\n",
      "Time taken for 1 epoch: 20.62241291999817 secs\n",
      "\n",
      "Epoch 15 Batch 0 Loss 1.7471 Accuracy 0.3158\n",
      "Epoch 15 Batch 20 Loss 1.8510 Accuracy 0.3037\n",
      "Epoch 15 Batch 40 Loss 1.8239 Accuracy 0.3099\n",
      "Epoch 15 Loss 1.8235 Accuracy 0.3096\n",
      "Time taken for 1 epoch: 20.77339458465576 secs\n",
      "\n",
      "Epoch 16 Batch 0 Loss 1.7051 Accuracy 0.3314\n",
      "Epoch 16 Batch 20 Loss 1.7255 Accuracy 0.3150\n",
      "Epoch 16 Batch 40 Loss 1.7138 Accuracy 0.3185\n",
      "Epoch 16 Loss 1.7236 Accuracy 0.3183\n",
      "Time taken for 1 epoch: 20.773369550704956 secs\n",
      "\n",
      "Epoch 17 Batch 0 Loss 1.8724 Accuracy 0.3281\n",
      "Epoch 17 Batch 20 Loss 1.6420 Accuracy 0.3255\n",
      "Epoch 17 Batch 40 Loss 1.6447 Accuracy 0.3258\n",
      "Epoch 17 Loss 1.6468 Accuracy 0.3248\n",
      "Time taken for 1 epoch: 20.78585648536682 secs\n",
      "\n",
      "Epoch 18 Batch 0 Loss 1.6026 Accuracy 0.3328\n",
      "Epoch 18 Batch 20 Loss 1.6026 Accuracy 0.3281\n",
      "Epoch 18 Batch 40 Loss 1.5661 Accuracy 0.3305\n",
      "Epoch 18 Loss 1.5658 Accuracy 0.3313\n",
      "Time taken for 1 epoch: 20.77471399307251 secs\n",
      "\n",
      "Epoch 19 Batch 0 Loss 1.4870 Accuracy 0.3499\n",
      "Epoch 19 Batch 20 Loss 1.4851 Accuracy 0.3377\n",
      "Epoch 19 Batch 40 Loss 1.4837 Accuracy 0.3393\n",
      "Epoch 19 Loss 1.4819 Accuracy 0.3381\n",
      "Time taken for 1 epoch: 20.796624898910522 secs\n",
      "\n",
      "Epoch 20 Batch 0 Loss 1.4371 Accuracy 0.3198\n",
      "Epoch 20 Batch 20 Loss 1.4128 Accuracy 0.3439\n",
      "Epoch 20 Batch 40 Loss 1.4076 Accuracy 0.3459\n",
      "Epoch 20 Loss 1.4036 Accuracy 0.3450\n",
      "Time taken for 1 epoch: 20.801685571670532 secs\n",
      "\n",
      "Epoch 21 Batch 0 Loss 1.4632 Accuracy 0.3398\n",
      "Epoch 21 Batch 20 Loss 1.3717 Accuracy 0.3477\n",
      "Epoch 21 Batch 40 Loss 1.3494 Accuracy 0.3491\n",
      "Epoch 21 Loss 1.3364 Accuracy 0.3495\n",
      "Time taken for 1 epoch: 20.887343168258667 secs\n",
      "\n",
      "Epoch 22 Batch 0 Loss 1.3133 Accuracy 0.3594\n",
      "Epoch 22 Batch 20 Loss 1.2426 Accuracy 0.3572\n",
      "Epoch 22 Batch 40 Loss 1.2584 Accuracy 0.3574\n",
      "Epoch 22 Loss 1.2661 Accuracy 0.3570\n",
      "Time taken for 1 epoch: 20.866117477416992 secs\n",
      "\n",
      "Epoch 23 Batch 0 Loss 1.1757 Accuracy 0.3841\n",
      "Epoch 23 Batch 20 Loss 1.1937 Accuracy 0.3622\n",
      "Epoch 23 Batch 40 Loss 1.2011 Accuracy 0.3636\n",
      "Epoch 23 Loss 1.1874 Accuracy 0.3636\n",
      "Time taken for 1 epoch: 20.831098556518555 secs\n",
      "\n",
      "Epoch 24 Batch 0 Loss 1.1282 Accuracy 0.3630\n",
      "Epoch 24 Batch 20 Loss 1.1156 Accuracy 0.3723\n",
      "Epoch 24 Batch 40 Loss 1.1128 Accuracy 0.3734\n",
      "Epoch 24 Loss 1.1086 Accuracy 0.3717\n",
      "Time taken for 1 epoch: 20.82348084449768 secs\n",
      "\n",
      "Epoch 25 Batch 0 Loss 1.1110 Accuracy 0.3358\n",
      "Epoch 25 Batch 20 Loss 1.0688 Accuracy 0.3733\n",
      "Epoch 25 Batch 40 Loss 1.0522 Accuracy 0.3768\n",
      "Epoch 25 Loss 1.0493 Accuracy 0.3770\n",
      "Time taken for 1 epoch: 20.813072681427002 secs\n",
      "\n",
      "Epoch 26 Batch 0 Loss 1.1209 Accuracy 0.3786\n",
      "Epoch 26 Batch 20 Loss 1.0304 Accuracy 0.3761\n",
      "Epoch 26 Batch 40 Loss 1.0097 Accuracy 0.3816\n",
      "Epoch 26 Loss 1.0061 Accuracy 0.3818\n",
      "Time taken for 1 epoch: 20.792287588119507 secs\n",
      "\n",
      "Epoch 27 Batch 0 Loss 1.0993 Accuracy 0.3921\n",
      "Epoch 27 Batch 20 Loss 0.9362 Accuracy 0.3857\n",
      "Epoch 27 Batch 40 Loss 0.9296 Accuracy 0.3897\n",
      "Epoch 27 Loss 0.9294 Accuracy 0.3900\n",
      "Time taken for 1 epoch: 20.840960025787354 secs\n",
      "\n",
      "Epoch 28 Batch 0 Loss 0.8072 Accuracy 0.3586\n",
      "Epoch 28 Batch 20 Loss 0.8794 Accuracy 0.3966\n",
      "Epoch 28 Batch 40 Loss 0.8641 Accuracy 0.3987\n",
      "Epoch 28 Loss 0.8619 Accuracy 0.3976\n",
      "Time taken for 1 epoch: 20.83373737335205 secs\n",
      "\n",
      "Epoch 29 Batch 0 Loss 0.9335 Accuracy 0.4226\n",
      "Epoch 29 Batch 20 Loss 0.8134 Accuracy 0.3992\n",
      "Epoch 29 Batch 40 Loss 0.8130 Accuracy 0.4017\n",
      "Epoch 29 Loss 0.8151 Accuracy 0.4020\n",
      "Time taken for 1 epoch: 20.81694984436035 secs\n",
      "\n",
      "Epoch 30 Batch 0 Loss 0.7182 Accuracy 0.4121\n",
      "Epoch 30 Batch 20 Loss 0.7609 Accuracy 0.4073\n",
      "Epoch 30 Batch 40 Loss 0.7510 Accuracy 0.4119\n",
      "Epoch 30 Loss 0.7559 Accuracy 0.4107\n",
      "Time taken for 1 epoch: 20.98876667022705 secs\n",
      "\n",
      "Epoch 31 Batch 0 Loss 0.7098 Accuracy 0.3946\n",
      "Epoch 31 Batch 20 Loss 0.7038 Accuracy 0.4143\n",
      "Epoch 31 Batch 40 Loss 0.7062 Accuracy 0.4170\n",
      "Epoch 31 Loss 0.7024 Accuracy 0.4162\n",
      "Time taken for 1 epoch: 20.846811532974243 secs\n",
      "\n",
      "Epoch 32 Batch 0 Loss 0.8017 Accuracy 0.4357\n",
      "Epoch 32 Batch 20 Loss 0.6943 Accuracy 0.4101\n",
      "Epoch 32 Batch 40 Loss 0.6800 Accuracy 0.4178\n",
      "Epoch 32 Loss 0.6782 Accuracy 0.4184\n",
      "Time taken for 1 epoch: 20.92322301864624 secs\n",
      "\n",
      "Epoch 33 Batch 0 Loss 0.5929 Accuracy 0.4230\n",
      "Epoch 33 Batch 20 Loss 0.6188 Accuracy 0.4244\n",
      "Epoch 33 Batch 40 Loss 0.6142 Accuracy 0.4264\n",
      "Epoch 33 Loss 0.6156 Accuracy 0.4261\n",
      "Time taken for 1 epoch: 20.83661198616028 secs\n",
      "\n",
      "Epoch 34 Batch 0 Loss 0.5737 Accuracy 0.4244\n",
      "Epoch 34 Batch 20 Loss 0.5747 Accuracy 0.4347\n",
      "Epoch 34 Batch 40 Loss 0.5708 Accuracy 0.4311\n",
      "Epoch 34 Loss 0.5740 Accuracy 0.4317\n",
      "Time taken for 1 epoch: 20.817912101745605 secs\n",
      "\n",
      "Epoch 35 Batch 0 Loss 0.5197 Accuracy 0.4364\n",
      "Epoch 35 Batch 20 Loss 0.5443 Accuracy 0.4377\n",
      "Epoch 35 Batch 40 Loss 0.5430 Accuracy 0.4353\n",
      "Epoch 35 Loss 0.5439 Accuracy 0.4354\n",
      "Time taken for 1 epoch: 20.78803253173828 secs\n",
      "\n",
      "Epoch 36 Batch 0 Loss 0.5021 Accuracy 0.4266\n",
      "Epoch 36 Batch 20 Loss 0.5027 Accuracy 0.4424\n",
      "Epoch 36 Batch 40 Loss 0.5000 Accuracy 0.4420\n",
      "Epoch 36 Loss 0.5025 Accuracy 0.4405\n",
      "Time taken for 1 epoch: 20.812504529953003 secs\n",
      "\n",
      "Epoch 37 Batch 0 Loss 0.4796 Accuracy 0.4749\n",
      "Epoch 37 Batch 20 Loss 0.4884 Accuracy 0.4430\n",
      "Epoch 37 Batch 40 Loss 0.4819 Accuracy 0.4432\n",
      "Epoch 37 Loss 0.4806 Accuracy 0.4434\n",
      "Time taken for 1 epoch: 20.75357222557068 secs\n",
      "\n",
      "Epoch 38 Batch 0 Loss 0.4850 Accuracy 0.4615\n",
      "Epoch 38 Batch 20 Loss 0.4502 Accuracy 0.4470\n",
      "Epoch 38 Batch 40 Loss 0.4482 Accuracy 0.4482\n",
      "Epoch 38 Loss 0.4490 Accuracy 0.4474\n",
      "Time taken for 1 epoch: 20.784610748291016 secs\n",
      "\n",
      "Epoch 39 Batch 0 Loss 0.4053 Accuracy 0.4738\n",
      "Epoch 39 Batch 20 Loss 0.4256 Accuracy 0.4463\n",
      "Epoch 39 Batch 40 Loss 0.4291 Accuracy 0.4501\n",
      "Epoch 39 Loss 0.4304 Accuracy 0.4485\n",
      "Time taken for 1 epoch: 20.733821392059326 secs\n",
      "\n",
      "Epoch 40 Batch 0 Loss 0.4618 Accuracy 0.4840\n",
      "Epoch 40 Batch 20 Loss 0.4174 Accuracy 0.4485\n",
      "Epoch 40 Batch 40 Loss 0.4077 Accuracy 0.4509\n",
      "Epoch 40 Loss 0.4094 Accuracy 0.4520\n",
      "Time taken for 1 epoch: 20.859692096710205 secs\n",
      "\n",
      "Epoch 41 Batch 0 Loss 0.3993 Accuracy 0.4433\n",
      "Epoch 41 Batch 20 Loss 0.3847 Accuracy 0.4568\n",
      "Epoch 41 Batch 40 Loss 0.3821 Accuracy 0.4542\n",
      "Epoch 41 Loss 0.3843 Accuracy 0.4550\n",
      "Time taken for 1 epoch: 20.76217794418335 secs\n",
      "\n",
      "Epoch 42 Batch 0 Loss 0.3328 Accuracy 0.4669\n",
      "Epoch 42 Batch 20 Loss 0.3893 Accuracy 0.4555\n",
      "Epoch 42 Batch 40 Loss 0.3808 Accuracy 0.4538\n",
      "Epoch 42 Loss 0.3808 Accuracy 0.4553\n",
      "Time taken for 1 epoch: 20.76884412765503 secs\n",
      "\n",
      "Epoch 43 Batch 0 Loss 0.3725 Accuracy 0.4717\n",
      "Epoch 43 Batch 20 Loss 0.3546 Accuracy 0.4614\n",
      "Epoch 43 Batch 40 Loss 0.3507 Accuracy 0.4584\n",
      "Epoch 43 Loss 0.3525 Accuracy 0.4582\n",
      "Time taken for 1 epoch: 20.751935720443726 secs\n",
      "\n",
      "Epoch 44 Batch 0 Loss 0.3113 Accuracy 0.4488\n",
      "Epoch 44 Batch 20 Loss 0.3561 Accuracy 0.4575\n",
      "Epoch 44 Batch 40 Loss 0.3496 Accuracy 0.4583\n",
      "Epoch 44 Loss 0.3530 Accuracy 0.4583\n",
      "Time taken for 1 epoch: 20.753559350967407 secs\n",
      "\n",
      "Epoch 45 Batch 0 Loss 0.3175 Accuracy 0.4531\n",
      "Epoch 45 Batch 20 Loss 0.3307 Accuracy 0.4608\n",
      "Epoch 45 Batch 40 Loss 0.3247 Accuracy 0.4633\n",
      "Epoch 45 Loss 0.3256 Accuracy 0.4617\n",
      "Time taken for 1 epoch: 20.778380393981934 secs\n",
      "\n",
      "Epoch 46 Batch 0 Loss 0.2952 Accuracy 0.4626\n",
      "Epoch 46 Batch 20 Loss 0.3385 Accuracy 0.4627\n",
      "Epoch 46 Batch 40 Loss 0.3320 Accuracy 0.4599\n",
      "Epoch 46 Loss 0.3323 Accuracy 0.4604\n",
      "Time taken for 1 epoch: 20.78591299057007 secs\n",
      "\n",
      "Epoch 47 Batch 0 Loss 0.3374 Accuracy 0.4506\n",
      "Epoch 47 Batch 20 Loss 0.3059 Accuracy 0.4633\n",
      "Epoch 47 Batch 40 Loss 0.3032 Accuracy 0.4643\n",
      "Epoch 47 Loss 0.3046 Accuracy 0.4639\n",
      "Time taken for 1 epoch: 20.75745129585266 secs\n",
      "\n",
      "Epoch 48 Batch 0 Loss 0.2885 Accuracy 0.4735\n",
      "Epoch 48 Batch 20 Loss 0.2961 Accuracy 0.4591\n",
      "Epoch 48 Batch 40 Loss 0.3013 Accuracy 0.4636\n",
      "Epoch 48 Loss 0.3043 Accuracy 0.4639\n",
      "Time taken for 1 epoch: 20.752695083618164 secs\n",
      "\n",
      "Epoch 49 Batch 0 Loss 0.3005 Accuracy 0.4909\n",
      "Epoch 49 Batch 20 Loss 0.3051 Accuracy 0.4645\n",
      "Epoch 49 Batch 40 Loss 0.2971 Accuracy 0.4645\n",
      "Epoch 49 Loss 0.2944 Accuracy 0.4645\n",
      "Time taken for 1 epoch: 20.727597951889038 secs\n",
      "\n",
      "Epoch 50 Batch 0 Loss 0.3011 Accuracy 0.4727\n",
      "Epoch 50 Batch 20 Loss 0.2834 Accuracy 0.4657\n",
      "Epoch 50 Batch 40 Loss 0.2869 Accuracy 0.4662\n",
      "Epoch 50 Loss 0.2871 Accuracy 0.4662\n",
      "Time taken for 1 epoch: 20.679027318954468 secs\n",
      "\n"
     ]
    }
   ],
   "source": [
    "EPOCHS = 50\n",
    "losses = []\n",
    "costs = []\n",
    "print(f\"Eğitim başladı.\\EPOCHS:{EPOCHS}\\tBATCH_SIZE:{BATCH_SIZE}\")\n",
    "for epoch in range(EPOCHS):\n",
    "    start = time.time()\n",
    "    train_loss.reset_states()\n",
    "    train_accuracy.reset_states()\n",
    "    for (batch, (img_tensor, seq)) in enumerate(dataset):\n",
    "        train_step(img_tensor, seq)\n",
    "        if batch % 20 == 0:\n",
    "            print ('Epoch {} Batch {} Loss {:.4f} Accuracy {:.4f}'.format(epoch + 1, batch, train_loss.result(), train_accuracy.result()))\n",
    "    losses.append(train_loss.result())\n",
    "    print ('Epoch {} Loss {:.4f} Accuracy {:.4f}'.format(epoch + 1,train_loss.result(),train_accuracy.result()))\n",
    "    print ('Time taken for 1 epoch: {} secs\\n'.format(time.time() - start))\n"
   ]
  },
  {
   "cell_type": "code",
   "execution_count": 32,
   "metadata": {
    "id": "xisHSTlX7QTc"
   },
   "outputs": [],
   "source": [
    "def evaluate(image,extraction_model,prediction_model,tokenizer,SEQ_LENGTH):\n",
    "   temp_input = tf.expand_dims(goruntuYukle(image)[0], 0)\n",
    "   img_tensor_val = extraction_model(temp_input)\n",
    "   img_tensor_val = tf.reshape(img_tensor_val, (img_tensor_val.shape[0], -1, img_tensor_val.shape[3]))\n",
    "   start_token = tokenizer.word_index['<start>']\n",
    "   end_token = tokenizer.word_index['<end>']\n",
    "   decoder_input = [start_token]\n",
    "   output = tf.expand_dims(decoder_input, 0) #tokens\n",
    "   result = [] #word list\n",
    "\n",
    "   for i in range(SEQ_LENGTH):\n",
    "      dec_mask = create_masks_decoder(output)\n",
    "      predictions, attention_weights = prediction_model(img_tensor_val,output,False,dec_mask)\n",
    "      predictions = predictions[: ,-1:, :]  # (batch_size, 1, vocab_size)\n",
    "      predicted_id = tf.cast(tf.argmax(predictions, axis=-1), tf.int32)\n",
    "      if predicted_id == end_token:\n",
    "         return result,tf.squeeze(output, axis=0), attention_weights\n",
    "      result.append(tokenizer.index_word[int(predicted_id)])\n",
    "      output = tf.concat([output, predicted_id], axis=-1)\n",
    "\n",
    "   return result,tf.squeeze(output, axis=0), attention_weights"
   ]
  },
  {
   "cell_type": "code",
   "execution_count": 37,
   "metadata": {
    "colab": {
     "base_uri": "https://localhost:8080/"
    },
    "id": "nyT8aahr7csy",
    "outputId": "6d261559-5c4f-4fe7-e9ff-01bb7840c3b6"
   },
   "outputs": [
    {
     "name": "stdout",
     "output_type": "stream",
     "text": [
      "PRED 1: ['normal heart size mediastinal contours atherosclerotic calcifications aortic no focal airspace consolidation no pleural effusion pneumothorax visualized osseous structures unremarkable appearance']\n",
      "PRED 2: ['heart size mediastinal contour normal pulmonary vascularity normal lungs clear no pleural effusions pneumothoraces']\n"
     ]
    }
   ],
   "source": [
    "i = 25\n",
    "eval1,_,_ = evaluate(img_fullpaths_val[i],extractionModel_fromFile,transformer,tokenizer,SEQ_LENGTH)\n",
    "res1 = [' '.join(e for e in eval1)]\n",
    "eval2,_,_ = evaluate(img_fullpaths_val[i+5],extractionModel_fromFile,transformer,tokenizer,SEQ_LENGTH)\n",
    "res2 = [' '.join(e for e in eval2)]\n",
    "print(\"PRED 1:\",res1)\n",
    "print(\"PRED 2:\",res2)"
   ]
  },
  {
   "cell_type": "code",
   "execution_count": 38,
   "metadata": {
    "id": "NG_wTI7y7QRB"
   },
   "outputs": [],
   "source": [
    "extraction_model = extractionModel_fromFile\n",
    "prediction_model = transformer\n",
    "tokenizer = tokenizer\n",
    "seq_length = SEQ_LENGTH\n",
    "all_images = img_fullpaths_val\n",
    "all_captions = findings_val"
   ]
  },
  {
   "cell_type": "code",
   "execution_count": 40,
   "metadata": {
    "id": "FJSRRejY7NxT"
   },
   "outputs": [],
   "source": [
    "def findReferencesAndCandidates(all_images,all_captions,extraction_model,prediction_model,tokenizer,seq_length):\n",
    "    '''\n",
    "    all_images: tüm resimlerin dosya yolları\n",
    "    all_captions: tüm resimlerin yorumları\n",
    "    '''\n",
    "    references = []\n",
    "    candidates = []\n",
    "    for idx in range(len(all_images)):\n",
    "        image = all_images[idx]\n",
    "        real_caption = ' '.join([tokenizer.index_word[i] for i in all_captions[idx] if i not in [0]])\n",
    "        caption,result,attention_weights = evaluate(image,extraction_model,prediction_model,tokenizer,seq_length)\n",
    "\n",
    "        first = real_caption.split(' ', 1)[1]\n",
    "        real_caption = first.rsplit(' ', 1)[0]\n",
    "\n",
    "        for i in caption:\n",
    "           if i==\"<unk>\":\n",
    "              caption.remove(i)\n",
    "\n",
    "        for i in real_caption:\n",
    "           if i==\"<unk>\":\n",
    "              real_caption.remove(i)\n",
    "\n",
    "        result_join = ' '.join(caption)\n",
    "        result_final = result_join.rsplit(' ', 1)[0]\n",
    "        real_appn = []\n",
    "        real_appn.append(real_caption.split())\n",
    "        reference = real_appn\n",
    "        candidate = caption\n",
    "        print(f\"ADIM {idx}:\\nREAL: {reference}\\nPRED: {candidate}\")\n",
    "        references.append(reference)\n",
    "        candidates.append(candidate)\n",
    "    return references,candidates\n",
    "\n",
    "def showSample(images,references,candidates):\n",
    "    image = images[3]\n",
    "    temp_image = np.array(Image.open(image))\n",
    "    print(\"Real:\",references[3])\n",
    "    print(\"Prediction:\",candidates[3])\n",
    "    plt.imshow(temp_image)\n",
    "    "
   ]
  },
  {
   "cell_type": "code",
   "execution_count": 41,
   "metadata": {
    "colab": {
     "base_uri": "https://localhost:8080/"
    },
    "id": "4Dy1Wljx7Nu4",
    "outputId": "8b10060f-c26b-4e5b-c25b-4cda8c52ceb0"
   },
   "outputs": [
    {
     "name": "stdout",
     "output_type": "stream",
     "text": [
      "ADIM 0:\n",
      "REAL: [['heart', 'normal', 'size', 'contour', 'no', 'mediastinal', 'widening', 'no', 'focal', 'air', 'space', 'disease', 'prominent', 'hilar', 'no', 'large', 'pleural', 'effusion', 'pneumothorax', 'intact']]\n",
      "PRED: ['heart', 'size', 'mediastinal', 'contours', 'normal', 'appearance', 'no', 'consolidative', 'airspace', 'opacities', 'no', 'radiographic', 'evidence', 'pleural', 'effusion', 'pneumothorax', 'visualized', 'osseous', 'structures', 'appear', 'intact']\n",
      "ADIM 1:\n",
      "REAL: [['heart', 'size', 'pulmonary', 'vascularity', 'appears', 'normal', 'limits', 'lungs', 'free', 'focal', 'airspace', 'disease', 'no', 'pleural', 'effusion', 'pneumothorax', 'seen', 'callus', 'granulomas', 'identified', 'left', 'remains']]\n",
      "PRED: ['heart', 'size', 'mediastinal', 'contour', 'pulmonary', 'vascularity', 'within', 'normal', 'limits', 'no', 'focal', 'consolidation', 'suspicious', 'pulmonary', 'opacity', 'large', 'pleural', 'effusion', 'pneumothorax', 'identified', 'visualized', 'osseous', 'structures', 'appear', 'intact']\n",
      "ADIM 2:\n",
      "REAL: [['persistent', 'low', 'lung', 'volumes', 'stable', 'streaky', 'left', 'lower', 'lobe', 'airspace', 'disease', 'probable', 'residual', 'left', 'pneumothorax', 'no', 'large', 'pleural', 'effusion', 'stable', 'cardiomediastinal', 'contour', 'leftsided', 'rib', 'fractures', 'better', 'appreciated', 'chest', 'comparison']]\n",
      "PRED: ['stable', 'appearance', 'right', 'aortic', 'mediastinal', 'contours', 'unchanged', 'lungs', 'clear', 'without', 'focal', 'consolidation', 'no', 'pleural', 'effusions', 'pneumothorax']\n",
      "ADIM 3:\n",
      "REAL: [['heart', 'normal', 'size', 'mediastinum', 'unremarkable', 'lungs', 'clear']]\n",
      "PRED: ['heart', 'size', 'mediastinal', 'contours', 'appear', 'within', 'normal', 'limits', 'pulmonary', 'vascularity', 'within', 'normal', 'limits', 'no', 'focal', 'consolidation', 'suspicious', 'pulmonary', 'opacity', 'pneumothorax', 'definite', 'pleural', 'effusion', 'visualized', 'osseous', 'structures', 'appear', 'intact']\n",
      "ADIM 4:\n",
      "REAL: [['cardiac', 'mediastinal', 'contours', 'within', 'normal', 'limits', 'lungs', 'clear', 'multilevel', 'cervical', 'arthritis']]\n",
      "PRED: ['heart', 'size', 'upper', 'limits', 'normal', 'pulmonary', 'vascularity', 'appears', 'within', 'normal', 'limits', 'lungs', 'free', 'focal', 'airspace', 'disease', 'no', 'pleural', 'effusion', 'pneumothorax', 'seen']\n",
      "ADIM 5:\n",
      "REAL: [['heart', 'size', 'normal', 'lungs', 'clear', 'no', 'pleural', 'line', 'suggest', 'pneumothorax', 'costophrenic', 'blunting', 'suggest', 'large', 'pleural', 'effusion', 'bony', 'structures', 'within', 'normal', 'limits']]\n",
      "PRED: ['heart', 'size', 'normal', 'lungs', 'clear', 'no', 'pleural', 'line', 'suggest', 'pneumothorax', 'costophrenic', 'blunting', 'suggest', 'large', 'pleural', 'effusion', 'bony', 'structures', 'within', 'normal', 'limits']\n",
      "ADIM 6:\n",
      "REAL: [['heart', 'size', 'vascularity', 'normal', 'lungs', 'clear', 'no', 'effusions', 'no', 'pneumothorax', 'visualized', 'osseous', 'structures', 'unremarkable']]\n",
      "PRED: ['cardiomediastinal', 'silhouette', 'vasculature', 'within', 'normal', 'limits', 'size', 'contour', 'lungs', 'normally', 'inflated', 'clear', 'osseous', 'structures', 'within', 'normal', 'limits', 'patient', 'age']\n",
      "ADIM 7:\n",
      "REAL: [['cardiac', 'silhouette', 'size', 'upper', 'limits', 'normal', 'central', 'vascular', 'markings', 'mildly', 'prominent', 'lungs', 'normally', 'inflated', 'no', 'focal', 'airspace', 'disease', 'pleural', 'effusion', 'pneumothorax', 'no', 'acute', 'bony', 'abnormality']]\n",
      "PRED: ['borderline', 'enlarged', 'heart', 'mediastinal', 'contours', 'aortic', 'calcifications', 'hyperinflated', 'lungs', 'chronic', 'appearing', 'interstitial', 'markings', 'compatible', 'emphysema']\n",
      "ADIM 8:\n",
      "REAL: [['lungs', 'clear', 'no', 'pleural', 'effusions', 'pneumothoraces', 'heart', 'size', 'normal', 'postoperative', 'changes', 'consistent', 'cabg', 'degenerative', 'changes', 'thoracic', 'spine']]\n",
      "PRED: ['heart', 'size', 'mediastinal', 'contour', 'pulmonary', 'vascularity', 'within', 'normal', 'limits', 'no', 'focal', 'consolidation', 'suspicious', 'pulmonary', 'opacity', 'large', 'pleural', 'effusion', 'pneumothorax', 'identified', 'calcified', 'left', 'anterior', 'first', 'rib', 'frontal', 'view', 'along', 'anterior', 'wedging', 'anterior', 'wedging', 'left', 'anterior', 'th', 'rib']\n",
      "ADIM 9:\n",
      "REAL: [['lungs', 'clear', 'no', 'pneumothorax', 'pleural', 'effusion', 'heart', 'mediastinum', 'within', 'normal', 'limits', 'bony', 'structures', 'intact']]\n",
      "PRED: ['heart', 'size', 'normal', 'mediastinal', 'contour', 'within', 'normal', 'limits', 'lungs', 'free', 'focal', 'infiltrates', 'no', 'nodules', 'masses', 'no', 'visible', 'pneumothorax', 'no', 'visible', 'pleural', 'fluid', 'grossly', 'normal', 'no', 'visible', 'free', 'intraperitoneal', 'air', 'diaphragm']\n",
      "ADIM 10:\n",
      "REAL: [['heart', 'size', 'within', 'normal', 'limits', 'cardiomediastinal', 'contour', 'normal', 'right', 'upper', 'lobe', 'nodule', 'measuring', 'mm', 'diameter', 'trachea', 'midline', 'lungs', 'otherwise', 'clear', 'soft', 'tissues', 'unremarkable']]\n",
      "PRED: ['heart', 'mediastinal', 'contours', 'stable', 'lungs', 'clear', 'without', 'focal', 'infiltrate', 'no', 'pleural', 'effusion', 'pneumothorax']\n",
      "ADIM 11:\n",
      "REAL: [['lungs', 'remain', 'clear', 'expanded', 'no', 'focal', 'parenchymal', 'infiltrates', 'pleural', 'air', 'collections', 'heart', 'aorta', 'normal', 'no', 'change', 'large', 'hiatus', 'hernia', 'pelvis', 'bone', 'density', 'decreased', 'hips', 'normal', 'symmetric', 'no', 'fractures', 'dislocations', 'bone', 'destruction', 'note', 'severe', 'rotatory', 'dextroscoliosis', 'lumbar', 'spine']]\n",
      "PRED: ['heart', 'size', 'mediastinal', 'contour', 'pulmonary', 'vascularity', 'within', 'normal', 'limits', 'no', 'focal', 'consolidation', 'suspicious', 'pulmonary', 'opacity', 'pleural', 'effusion', 'pneumothorax', 'visualized', 'osseous', 'structures', 'appear', 'intact']\n",
      "ADIM 12:\n",
      "REAL: [['cardiomediastinal', 'silhouette', 'vasculature', 'within', 'normal', 'limits', 'size', 'contour', 'lungs', 'normally', 'inflated', 'clear', 'osseous', 'structures', 'within', 'normal', 'limits', 'patient', 'age']]\n",
      "PRED: ['cardiomediastinal', 'silhouette', 'pulmonary', 'vasculature', 'within', 'normal', 'limits', 'lungs', 'clear', 'no', 'pneumothorax', 'pleural', 'effusion', 'no', 'acute', 'osseous', 'findings']\n",
      "ADIM 13:\n",
      "REAL: [['sternotomy', 'appear', 'intact', 'surgical', 'clips', 'overlying', 'mediastinum', 'mitral', 'valve', 'replacement', 'seen', 'low', 'lung', 'volumes', 'interstitial', 'markings', 'appear', 'prominent', 'may', 'represent', 'interstitial', 'edema', 'mild', 'blunting', 'posterior', 'sulcus', 'lateral', 'view', 'could', 'represent', 'small', 'effusion', 'no', 'pneumothorax', 'no', 'acute', 'bony', 'abnormality']]\n",
      "PRED: ['no', 'acute', 'osseous', 'abnormality', 'soft', 'tissues', 'within', 'normal', 'limits', 'borderline', 'enlargement', 'heart', 'normal', 'hilar', 'vasculature', 'no', 'focal', 'area', 'consolidation', 'pleural', 'effusion', 'pneumothorax']\n",
      "ADIM 14:\n",
      "REAL: [['heart', 'size', 'mediastinal', 'contour', 'normal', 'cm', 'vague', 'nodular', 'density', 'right', 'mid', 'lung', 'probably', 'within', 'middle', 'lobe', 'given', 'opacification', 'lateral', 'view', 'subtle', 'left', 'retrocardiac', 'density', 'also', 'noted', 'obscuration', 'aortic', 'contour', 'no', 'pleural', 'effusions', 'pneumothorax']]\n",
      "PRED: ['examination', 'consists', 'frontal', 'lateral', 'radiographs', 'chest', 'cardiomediastinal', 'contours', 'within', 'normal', 'limits', 'pulmonary', 'vascularity', 'within', 'normal', 'limits', 'no', 'focal', 'consolidation', 'pleural', 'effusion', 'pneumothorax', 'identified', 'visualized', 'osseous', 'structures', 'upper', 'abdomen', 'unremarkable']\n",
      "ADIM 15:\n",
      "REAL: [['images', 'heart', 'size', 'upper', 'limits', 'normal', 'mediastinal', 'contours', 'maintained', 'patient', 'mildly', 'rotated', 'small', 'moderate', 'sized', 'right', 'apical', 'pneumothorax', 'measures', 'approximately', 'cm', 'no', 'focal', 'airspace', 'consolidation', 'seen', 'left', 'chest', 'clear', 'no', 'definite', 'displaced', 'bony', 'injury', 'seen', 'results', 'called', 'pm']]\n",
      "PRED: ['heart', 'size', 'pulmonary', 'vascularity', 'appear', 'within', 'normal', 'limits', 'lungs', 'free', 'focal', 'airspace', 'disease', 'no', 'pleural', 'effusion', 'pneumothorax', 'seen']\n",
      "ADIM 16:\n",
      "REAL: [['lungs', 'clear', 'without', 'focal', 'consolidation', 'effusion', 'pneumothorax', 'normal', 'heart', 'size', 'degenerative', 'changes', 'thoracic', 'spine']]\n",
      "PRED: ['heart', 'size', 'upper', 'limits', 'normal', 'vascularity', 'appears', 'within', 'normal', 'limits', 'lungs', 'free', 'focal', 'infiltrates', 'no', 'nodules', 'masses', 'no', 'visible', 'pneumothorax', 'no', 'visible', 'pleural', 'fluid', 'grossly', 'normal']\n",
      "ADIM 17:\n",
      "REAL: [['heart', 'cardiomediastinal', 'silhouette', 'normal', 'size', 'contour', 'no', 'focal', 'air', 'space', 'opacity', 'pleural', 'effusion', 'pneumothorax', 'osseous', 'structures', 'intact']]\n",
      "PRED: ['heart', 'pulmonary', 'mediastinum', 'within', 'normal', 'limits', 'no', 'pleural', 'effusion', 'pneumothorax', 'no', 'focal', 'air', 'space', 'opacity', 'suggest', 'pneumonia', 'calcified', 'granulomas', 'noted', 'vascular', 'calcifications', 'aortic']\n",
      "ADIM 18:\n",
      "REAL: [['low', 'lung', 'volumes', 'cardiac', 'silhouette', 'upper', 'mediastinum', 'pulmonary', 'vasculature', 'within', 'normal', 'limits', 'no', 'acute', 'pulmonary', 'consolidation', 'pleural', 'effusion', 'pneumothorax']]\n",
      "PRED: ['heart', 'size', 'upper', 'limits', 'normal', 'pulmonary', 'vascularity', 'appears', 'within', 'normal', 'limits', 'lungs', 'free', 'focal', 'airspace', 'disease', 'no', 'pleural', 'effusion', 'pneumothorax', 'seen', 'no', 'noncalcified', 'nodules', 'masses']\n",
      "ADIM 19:\n",
      "REAL: [['stable', 'mild', 'thoracic', 'levoscoliosis', 'stable', 'cardiomegaly', 'multiple', 'scattered', 'round', 'calcific', 'densities', 'represent', 'old', 'granulomatous', 'disease', 'no', 'pneumothorax', 'pleural', 'effusion', 'no', 'focal', 'consolidation', 'moderate', 'degenerative', 'changes', 'thoracic', 'spine']]\n",
      "PRED: ['heart', 'top', 'normal', 'size', 'mediastinum', 'unremarkable', 'lungs', 'hypoinflated', 'grossly', 'clear', 'significant', 'degenerative', 'changes', 'noted']\n",
      "ADIM 20:\n",
      "REAL: [['heart', 'size', 'normal', 'mild', 'atelectasis', 'lungs', 'otherwise', 'clear', 'no', 'pleural', 'effusions', 'pneumothoraces', 'hilar', 'mediastinal', 'contours', 'normal', 'normal', 'pulmonary', 'vascularity']]\n",
      "PRED: ['lung', 'volumes', 'low', 'no', 'focal', 'infiltrates', 'heart', 'silhouette', 'normal', 'size', 'contour']\n",
      "ADIM 21:\n",
      "REAL: [['heart', 'size', 'vascularity', 'normal', 'mediastinal', 'contour', 'normal', 'lungs', 'clear', 'no', 'pleural', 'effusions', 'pneumothoraces']]\n",
      "PRED: ['heart', 'size', 'within', 'normal', 'limits', 'no', 'focal', 'airspace', 'consolidations', 'no', 'pneumothorax', 'pleural', 'effusion']\n",
      "ADIM 22:\n",
      "REAL: [['normal', 'cardiac', 'contour', 'clear', 'lung', 'bilaterally', 'no', 'pleural', 'effusion', 'pneumothorax', 'degenerative', 'seen', 'throughout', 'cervical', 'spine']]\n",
      "PRED: ['heart', 'size', 'normal', 'lungs', 'clear', 'no', 'pleural', 'line', 'suggest', 'pneumothorax', 'costophrenic', 'blunting', 'suggest', 'large', 'pleural', 'effusion', 'bony', 'structures', 'within', 'normal', 'limits']\n",
      "ADIM 23:\n",
      "REAL: [['no', 'focal', 'areas', 'consolidation', 'no', 'suspicious', 'bony', 'opacities', 'heart', 'size', 'within', 'normal', 'limits', 'no', 'pleural', 'effusions', 'no', 'pneumothorax']]\n",
      "PRED: ['heart', 'size', 'mediastinal', 'silhouette', 'within', 'normal', 'limits', 'contour', 'lungs', 'clear', 'no', 'pneumothorax', 'pleural', 'effusions', 'intact']\n",
      "ADIM 24:\n",
      "REAL: [['heart', 'mildly', 'enlarged', 'mediastinal', 'contour', 'pulmonary', 'vascularity', 'within', 'normal', 'limits', 'streaky', 'left', 'basilar', 'airspace', 'opacities', 'compatible', 'atelectasis', 'seen', 'comparison', 'abdomen', 'pelvis', 'ct', 'left', 'upper', 'lung', 'granuloma', 'otherwise', 'no', 'focal', 'consolidation', 'large', 'pleural', 'effusion', 'pneumothorax', 'appear', 'intact']]\n",
      "PRED: ['low', 'lung', 'volumes', 'cardiomediastinal', 'silhouette', 'pulmonary', 'vasculature', 'within', 'normal', 'limits', 'lungs', 'clear', 'no', 'pneumothorax', 'pleural', 'effusion']\n",
      "ADIM 25:\n",
      "REAL: [['heart', 'size', 'pulmonary', 'vascularity', 'within', 'normal', 'limits', 'large', 'hiatal', 'hernia', 'seen', 'projecting', 'retrocardiac', 'region', 'prior', 'examination', 'associated', 'atelectasis', 'left', 'lung', 'base', 'no', 'pleural', 'effusion', 'pneumothorax', 'identified']]\n",
      "PRED: ['normal', 'heart', 'size', 'mediastinal', 'contours', 'atherosclerotic', 'calcifications', 'aortic', 'no', 'focal', 'airspace', 'consolidation', 'no', 'pleural', 'effusion', 'pneumothorax', 'visualized', 'osseous', 'structures', 'unremarkable', 'appearance']\n",
      "ADIM 26:\n",
      "REAL: [['cardiomediastinal', 'silhouette', 'within', 'normal', 'limits', 'appearance', 'no', 'focal', 'air', 'prominent', 'consolidation', 'no', 'pneumothorax', 'no', 'large', 'pleural', 'effusion', 'minimal', 'degenerative', 'changes', 'thoracic', 'spine', 'mild', 'wedge', 'deformity', 'midthoracic', 'vertebral', 'body', 'ageindeterminate']]\n",
      "PRED: ['heart', 'pulmonary', 'mediastinum', 'within', 'normal', 'limits', 'no', 'pleural', 'effusion', 'pneumothorax', 'no', 'focal', 'air', 'space', 'opacity', 'suggest', 'pneumonia', 'calcified', 'granuloma', 'within', 'right', 'middle', 'lobe']\n",
      "ADIM 27:\n",
      "REAL: [['cardiomediastinal', 'silhouette', 'within', 'normal', 'limits', 'lungs', 'clear', 'without', 'focal', 'consolidation', 'no', 'pneumothorax', 'large', 'pleural', 'effusion']]\n",
      "PRED: ['heart', 'size', 'normal', 'lungs', 'clear', 'normal', 'no', 'pneumonia', 'effusions', 'edema', 'pneumothorax', 'adenopathy', 'nodules', 'masses']\n",
      "ADIM 28:\n",
      "REAL: [['stable', 'cardiomediastinal', 'silhouette', 'calcified', 'granuloma', 'left', 'lower', 'lobe', 'minimal', 'bibasilar', 'airspace', 'disease', 'no', 'pneumothorax', 'degenerative', 'changes', 'thoracic', 'spine']]\n",
      "PRED: ['stable', 'cardiomediastinal', 'silhouette', 'borderline', 'cardiomegaly', 'no', 'focal', 'pulmonary', 'opacity', 'pleural', 'effusion', 'pneumothorax', 'no', 'acute', 'bony', 'abnormality']\n",
      "ADIM 29:\n",
      "REAL: [['no', 'focal', 'areas', 'consolidation', 'no', 'pneumothorax', 'heart', 'size', 'within', 'normal', 'limits', 'no', 'pleural', 'effusions', 'osseous', 'structures', 'intact']]\n",
      "PRED: ['heart', 'size', 'mediastinal', 'silhouette', 'within', 'normal', 'limits', 'contour', 'lungs', 'clear', 'no', 'pneumothorax', 'pleural', 'effusions', 'intact']\n",
      "ADIM 30:\n",
      "REAL: [['cardiac', 'mediastinal', 'contours', 'within', 'normal', 'limits', 'prior', 'granulomatous', 'disease', 'lungs', 'clear', 'thoracic', 'spondylosis']]\n",
      "PRED: ['heart', 'size', 'mediastinal', 'contour', 'normal', 'pulmonary', 'vascularity', 'normal', 'lungs', 'clear', 'no', 'pleural', 'effusions', 'pneumothoraces']\n",
      "ADIM 31:\n",
      "REAL: [['no', 'focal', 'areas', 'consolidation', 'no', 'suspicious', 'bony', 'opacities', 'heart', 'size', 'within', 'normal', 'limits', 'no', 'pleural', 'effusions', 'no', 'evidence', 'pneumothorax', 'mild', 'degenerative', 'changes', 'thoracic', 'spine']]\n",
      "PRED: ['no', 'focal', 'consolidation', 'no', 'visualized', 'pneumothorax', 'heart', 'size', 'within', 'normal', 'limits']\n",
      "ADIM 32:\n",
      "REAL: [['trachea', 'midline', 'cardiomediastinal', 'silhouette', 'normal', 'low', 'lung', 'volumes', 'causing', 'bibasilar', 'atelectasis', 'bronchovascular', 'crowding', 'opacity', 'left', 'lingula', 'no', 'pleural', 'effusion', 'pneumothorax', 'visualized', 'bony', 'structures', 'reveal', 'no', 'acute', 'abnormalities']]\n",
      "PRED: ['low', 'lung', 'volumes', 'present', 'heart', 'size', 'pulmonary', 'vascularity', 'appear', 'within', 'normal', 'limits', 'lungs', 'free', 'focal', 'airspace', 'disease', 'no', 'pleural', 'effusion', 'pneumothorax', 'seen']\n",
      "ADIM 33:\n",
      "REAL: [['heart', 'normal', 'size', 'mediastinum', 'unremarkable', 'lungs', 'clear']]\n",
      "PRED: ['lungs', 'clear', 'no', 'pleural', 'effusion', 'pneumothorax', 'heart', 'not', 'significantly', 'enlarged', 'atherosclerotic', 'changes', 'aorta', 'arthritic', 'changes', 'skeletal', 'structures', 'noted']\n",
      "ADIM 34:\n",
      "REAL: [['mild', 'cardiomegaly', 'tortuous', 'thoracic', 'aorta', 'atherosclerosis', 'no', 'pneumothorax', 'pleural', 'effusion', 'degenerative', 'changes', 'thoracic', 'spine', 'without', 'evidence', 'deformity', 'visualized', 'osseous', 'structures', 'intact', 'no', 'displaced', 'rib', 'fractures', 'no', 'edema', 'airspace', 'consolidation']]\n",
      "PRED: ['heart', 'size', 'within', 'normal', 'limits', 'no', 'focal', 'airspace', 'disease', 'no', 'pneumothorax', 'effusions']\n",
      "ADIM 35:\n",
      "REAL: [['lungs', 'clear', 'bilaterally', 'specifically', 'no', 'evidence', 'focal', 'consolidation', 'pneumothorax', 'pleural', 'effusion', 'cardio', 'mediastinal', 'silhouette', 'unremarkable', 'visualized', 'osseous', 'structures', 'thorax', 'without', 'acute', 'abnormality']]\n",
      "PRED: ['lungs', 'clear', 'bilaterally', 'specifically', 'no', 'evidence', 'focal', 'consolidation', 'pneumothorax', 'pleural', 'effusion', 'cardio', 'mediastinal', 'silhouette', 'unremarkable', 'visualized', 'osseous', 'structures', 'thorax', 'without', 'acute', 'abnormality']\n",
      "ADIM 36:\n",
      "REAL: [['lungs', 'clear', 'no', 'pleural', 'effusions', 'pneumothoraces', 'heart', 'mediastinum', 'normal', 'size', 'contour']]\n",
      "PRED: ['heart', 'lungs', 'interval', 'lungs', 'clear', 'expanded', 'heart', 'mediastinum', 'normal']\n",
      "ADIM 37:\n",
      "REAL: [['heart', 'mediastinum', 'within', 'normal', 'limits', 'negative', 'focal', 'pulmonary', 'consolidation', 'pleural', 'effusion', 'pneumothorax']]\n",
      "PRED: ['heart', 'size', 'normal', 'lungs', 'clear', 'no', 'pleural', 'line', 'suggest', 'pneumothorax', 'costophrenic', 'blunting', 'suggest', 'large', 'pleural', 'effusion', 'bony', 'structures', 'within', 'normal', 'limits']\n",
      "ADIM 38:\n",
      "REAL: [['stable', 'scarring', 'atelectasis', 'left', 'midlung', 'lungs', 'otherwise', 'grossly', 'clear', 'heart', 'size', 'near', 'upper', 'limits', 'normal', 'mediastinal', 'silhouette', 'normal', 'no', 'pneumothorax', 'pleural', 'effusion', 'tspine', 'osteophytes', 'noted']]\n",
      "PRED: ['lungs', 'clear', 'expanded', 'heart', 'mediastinum', 'normal']\n",
      "ADIM 39:\n",
      "REAL: [['patchy', 'airspace', 'disease', 'noted', 'within', 'right', 'middle', 'lobe', 'subtle', 'opacities', 'present', 'within', 'lingula', 'well', 'no', 'pneumothorax', 'pleural', 'effusion', 'heart', 'size', 'normal']]\n",
      "PRED: ['heart', 'top', 'normal', 'size', 'mediastinum', 'unremarkable', 'lungs', 'hypoinflated', 'grossly', 'clear', 'significant', 'degenerative', 'changes', 'noted', 'bilaterally']\n",
      "ADIM 40:\n",
      "REAL: [['images', 'heart', 'size', 'pulmonary', 'vascular', 'engorgement', 'appear', 'within', 'limits', 'normal', 'mediastinal', 'contour', 'unremarkable', 'no', 'focal', 'consolidation', 'pleural', 'effusion', 'pneumothorax', 'identified', 'no', 'convincing', 'acute', 'bony', 'findings']]\n",
      "PRED: ['heart', 'lungs', 'interval', 'lungs', 'clear', 'expanded', 'heart', 'mediastinum', 'normal']\n",
      "ADIM 41:\n",
      "REAL: [['scattered', 'calcified', 'pulmonary', 'nodules', 'represents', 'calcified', 'granulomas', 'lungs', 'clear', 'bilaterally', 'no', 'focal', 'consolidation', 'pleural', 'effusion', 'pneumothoraces', 'stable', 'calcified', 'hilar', 'mediastinal', 'lymph', 'decreased', 'size', 'prior', 'exam', 'heart', 'size', 'normal', 'unremarkable']]\n",
      "PRED: ['heart', 'size', 'mediastinal', 'contours', 'appear', 'within', 'normal', 'limits', 'no', 'focal', 'airspace', 'consolidation', 'pleural', 'effusions', 'pneumothorax']\n",
      "ADIM 42:\n",
      "REAL: [['cardiomediastinal', 'silhouette', 'pulmonary', 'vasculature', 'within', 'normal', 'limits', 'lungs', 'clear', 'no', 'pneumothorax', 'pleural', 'effusion', 'no', 'acute', 'osseous', 'findings']]\n",
      "PRED: ['heart', 'size', 'within', 'normal', 'limits', 'no', 'focal', 'airspace', 'consolidations', 'no', 'pneumothorax', 'pleural', 'effusion']\n",
      "ADIM 43:\n",
      "REAL: [['heart', 'size', 'within', 'normal', 'limits', 'no', 'focal', 'alveolar', 'consolidation', 'no', 'definite', 'pleural', 'effusion', 'seen', 'no', 'typical', 'findings', 'pulmonary', 'edema']]\n",
      "PRED: ['heart', 'size', 'pulmonary', 'vascularity', 'appear', 'within', 'normal', 'limits', 'lungs', 'free', 'focal', 'airspace', 'disease', 'no', 'pleural', 'effusion', 'pneumothorax', 'seen']\n",
      "ADIM 44:\n",
      "REAL: [['cardiomediastinal', 'silhouette', 'within', 'normal', 'limits', 'no', 'acute', 'bony', 'abnormality', 'identified', 'slightly', 'increased', 'opacity', 'right', 'base', 'compared', 'left', 'may', 'minimal', 'right', 'basilar', 'airspace', 'disease', 'right', 'middle', 'lobe', 'left', 'lung', 'clear', 'no', 'pneumothorax', 'effusion', 'identified']]\n",
      "PRED: ['heart', 'lungs', 'interval', 'lungs', 'clear', 'expanded', 'heart', 'mediastinum', 'normal']\n",
      "ADIM 45:\n",
      "REAL: [['cardiomediastinal', 'silhouette', 'vasculature', 'within', 'normal', 'limits', 'size', 'contour', 'chronic', 'appearing', 'interstitial', 'marking', 'right', 'upper', 'lobe', 'granuloma', 'stable', 'lungs', 'normally', 'inflated', 'clear', 'degenerative', 'changes', 'spine']]\n",
      "PRED: ['low', 'lung', 'volumes', 'trachea', 'midline', 'negative', 'pneumothorax', 'pleural', 'effusion', 'focal', 'airspace', 'consolidation', 'heart', 'size', 'normal', 'mild', 'degenerate', 'change', 'thoracic', 'spine']\n",
      "ADIM 46:\n",
      "REAL: [['frontal', 'lateral', 'views', 'chest', 'demonstrate', 'cardiomediastinal', 'silhouette', 'normal', 'normal', 'distribution', 'pulmonary', 'vascularity', 'lungs', 'clear', 'no', 'effusion', 'consolidation', 'pneumothorax']]\n",
      "PRED: ['heart', 'size', 'within', 'normal', 'limits', 'no', 'focal', 'airspace', 'consolidations', 'no', 'pneumothorax', 'pleural', 'effusion']\n",
      "ADIM 47:\n",
      "REAL: [['lungs', 'clear', 'expanded', 'heart', 'mediastinum', 'normal']]\n",
      "PRED: ['heart', 'size', 'mediastinal', 'silhouette', 'within', 'normal', 'limits', 'no', 'pneumothorax', 'pleural', 'effusions', 'lungs', 'clear', 'no', 'focal', 'consolidations', 'osseous', 'structures', 'intact']\n",
      "ADIM 48:\n",
      "REAL: [['cardiomediastinal', 'silhouette', 'pulmonary', 'vasculature', 'within', 'normal', 'limits', 'size', 'stable', 'scarring', 'right', 'upper', 'lobe', 'lungs', 'otherwise', 'clear', 'no', 'focal', 'airspace', 'disease', 'pneumothorax', 'pleural', 'effusion', 'no', 'acute', 'bony', 'findings']]\n",
      "PRED: ['heart', 'lungs', 'interval', 'lungs', 'clear', 'expanded', 'heart', 'mediastinum', 'normal']\n",
      "ADIM 49:\n",
      "REAL: [['lateral', 'chest', 'examination', 'obtained', 'one', 'ap', 'view', 'expiratory', 'repeated', 'heart', 'silhouette', 'normal', 'size', 'contour', 'aortic', 'appear', 'unremarkable', 'lungs', 'demonstrate', 'no', 'focal', 'infiltrates', 'no', 'effusion', 'pneumothorax']]\n",
      "PRED: ['heart', 'size', 'mildly', 'enlarged', 'stable', 'mediastinal', 'hilar', 'contours', 'right', 'hemidiaphragm', 'eventration', 'no', 'focal', 'alveolar', 'consolidation', 'no', 'definite', 'pleural', 'effusion', 'seen', 'no', 'typical', 'findings', 'pulmonary', 'edema']\n",
      "ADIM 50:\n",
      "REAL: [['lungs', 'mildly', 'hypoinflated', 'asymmetric', 'elevation', 'right', 'hemidiaphragm', 'uncertain', 'chronicity', 'mild', 'basilar', 'bronchovascular', 'crowding', 'without', 'evidence', 'focal', 'airspace', 'disease', 'heart', 'within', 'normal', 'limits', 'low', 'lung', 'volumes', 'ap', 'technique', 'no', 'pneumothorax', 'large', 'pleural', 'effusion']]\n",
      "PRED: ['stable', 'cardiomegaly', 'mediastinal', 'contours', 'unchanged', 'stable', 'prominence', 'central', 'pulmonary', 'vasculature', 'coarse', 'central', 'interstitial', 'markings', 'decreased', 'left', 'basilar', 'interstitial', 'markings', 'no', 'focal', 'airspace', 'consolidation', 'pleural', 'effusion', 'pneumothorax']\n",
      "ADIM 51:\n",
      "REAL: [['no', 'focal', 'areas', 'consolidation', 'no', 'suspicious', 'pulmonary', 'opacities', 'heart', 'size', 'within', 'normal', 'limits', 'no', 'pleural', 'effusions', 'no', 'evidence', 'pneumothorax', 'stable', 'left', 'mid', 'lung', 'granuloma']]\n",
      "PRED: ['examination', 'consists', 'frontal', 'lateral', 'radiographs', 'chest', 'cardiomediastinal', 'contours', 'within', 'normal', 'limits', 'pulmonary', 'vascularity', 'within', 'normal', 'limits', 'no', 'focal', 'consolidation', 'pleural', 'effusion', 'pneumothorax', 'identified', 'visualized', 'osseous', 'structures', 'upper', 'abdomen', 'unremarkable']\n",
      "ADIM 52:\n",
      "REAL: [['stable', 'cavity', 'right', 'apex', 'related', 'prior', 'tuberculosis', 'infection', 'increased', 'opacity', 'left', 'upper', 'lobe', 'peripherally', 'pulmonary', 'hyperexpansion', 'no', 'large', 'effusion', 'pneumothorax']]\n",
      "PRED: ['heart', 'size', 'pulmonary', 'vascularity', 'appear', 'within', 'normal', 'limits', 'lungs', 'free', 'focal', 'airspace', 'disease', 'no', 'pleural', 'effusion', 'pneumothorax', 'seen']\n",
      "ADIM 53:\n",
      "REAL: [['lungs', 'clear', 'bilaterally', 'specifically', 'no', 'evidence', 'focal', 'consolidation', 'pneumothorax', 'pleural', 'effusion', 'cardio', 'mediastinal', 'silhouette', 'unremarkable', 'visualized', 'osseous', 'structures', 'thorax', 'without', 'acute', 'abnormality']]\n",
      "PRED: ['lateral', 'views', 'chest', 'examination', 'obtained', 'heart', 'silhouette', 'mediastinal', 'contours', 'not', 'enlarged', 'elevated', 'right', 'hemidiaphragm', 'evidence', 'right', 'upper', 'lobe', 'no', 'pneumothorax', 'no', 'pleural', 'effusion']\n",
      "ADIM 54:\n",
      "REAL: [['cardiac', 'mediastinal', 'contours', 'within', 'normal', 'limits', 'prior', 'granulomatous', 'disease', 'lungs', 'otherwise', 'clear', 'bony', 'structures', 'intact']]\n",
      "PRED: ['cardiac', 'mediastinal', 'contours', 'within', 'normal', 'limits', 'lungs', 'clear', 'bony', 'structures', 'intact']\n",
      "ADIM 55:\n",
      "REAL: [['frontal', 'lateral', 'views', 'chest', 'overlying', 'external', 'cardiac', 'monitor', 'leads', 'show', 'normal', 'size', 'configuration', 'cardiac', 'silhouette', 'normal', 'pulmonary', 'vasculature', 'central', 'airways', 'no', 'focal', 'airspace', 'consolidation', 'pleural', 'effusion']]\n",
      "PRED: ['heart', 'size', 'upper', 'limits', 'normal', 'pulmonary', 'vascularity', 'appears', 'within', 'normal', 'limits', 'lungs', 'free', 'focal', 'airspace', 'disease', 'no', 'pleural', 'effusion', 'pneumothorax', 'seen']\n",
      "ADIM 56:\n",
      "REAL: [['lungs', 'opacities', 'present', 'left', 'lung', 'base', 'heart', 'size', 'normal', 'mediastinum', 'normal']]\n",
      "PRED: ['heart', 'size', 'upper', 'limits', 'normal', 'aortic', 'atherosclerotic', 'vascular', 'calcification', 'lungs', 'remain', 'hyperexpanded', 'biapical', 'opacities', 'stable', 'prior', 'study', 'no', 'focal', 'airspace', 'consolidation', 'no', 'pleural', 'effusion', 'no', 'pneumothorax', 'mild', 'degenerative', 'changes', 'spine']\n",
      "ADIM 57:\n",
      "REAL: [['mild', 'cardiomegaly', 'pulmonary', 'vasculature', 'within', 'normal', 'limits', 'costophrenic', 'increased', 'kyphotic', 'curvature', 'thoracic', 'spine', 'within', 'heart', 'small', 'area', 'ovalshaped', 'density', 'measuring', 'x', 'cm', 'without', 'correction', 'magnification', 'calcified', 'lymph', 'node', 'right', 'hilum', 'no', 'pneumothorax']]\n",
      "PRED: ['heart', 'size', 'upper', 'limits', 'normal', 'mediastinal', 'contour', 'appears', 'normal', 'pulmonary', 'vascularity', 'within', 'normal', 'limits', 'otherwise', 'no', 'focal', 'consolidation', 'large', 'pleural', 'effusion', 'pneumothorax', 'visualized', 'osseous', 'structures', 'appear', 'intact']\n",
      "ADIM 58:\n",
      "REAL: [['soft', 'tissue', 'neck', 'airway', 'no', 'laryngeal', 'edema', 'laryngeal', 'intact', 'cervical', 'spine', 'intact', 'chest', 'heart', 'large', 'diffuse', 'parahilar', 'alveolar', 'consolidations', 'present', 'bilateral', 'costophrenic', 'blunting', 'present']]\n",
      "PRED: ['heart', 'size', 'upper', 'limits', 'normal', 'pulmonary', 'mediastinum', 'within', 'normal', 'limits', 'no', 'pleural', 'effusion', 'pneumothorax', 'mild', 'streaky', 'opacity', 'without', 'focal', 'air', 'space', 'opacity', 'suggest', 'bacterial', 'pneumonia']\n",
      "ADIM 59:\n",
      "REAL: [['no', 'focal', 'airspace', 'disease', 'pleural', 'effusion', 'pneumothorax', 'cardiomediastinal', 'silhouette', 'within', 'normal', 'limits', 'prominent', 'lateral', 'osteophytes', 'along', 'right', 'aspect', 'mid', 'thoracic', 'spine', 'stable', 'no', 'free', 'subdiaphragmatic', 'air']]\n",
      "PRED: ['heart', 'size', 'mediastinal', 'silhouette', 'within', 'normal', 'limits', 'contour', 'lungs', 'clear', 'no', 'pneumothorax', 'pleural', 'effusions', 'intact']\n",
      "ADIM 60:\n",
      "REAL: [['lungs', 'clear', 'without', 'focal', 'consolidation', 'no', 'suspicious', 'pulmonary', 'nodules', 'identified', 'no', 'pleural', 'effusions', 'pneumothoraces', 'heart', 'mediastinum', 'normal', 'size', 'contour']]\n",
      "PRED: ['lungs', 'clear', 'no', 'pleural', 'effusion', 'pneumothorax', 'heart', 'mediastinum', 'normal', 'skeletal', 'structures', 'normal']\n",
      "ADIM 61:\n",
      "REAL: [['heart', 'top', 'normal', 'size', 'mediastinum', 'stable', 'lungs', 'clear']]\n",
      "PRED: ['stable', 'cardiomegaly', 'mediastinal', 'contours', 'unchanged', 'stable', 'prominence', 'central', 'pulmonary', 'vasculature', 'coarse', 'central', 'interstitial', 'markings', 'decreased', 'left', 'basal', 'airspace', 'disease', 'pleural', 'effusion', 'pneumothorax']\n",
      "ADIM 62:\n",
      "REAL: [['heart', 'size', 'cardiopulmonary', 'silhouette', 'normal', 'no', 'focal', 'airspace', 'opacity', 'pleural', 'effusion', 'pneumothorax', 'obstruction', 'intact', 'mild', 'degenerative', 'change', 'thoracic', 'spine']]\n",
      "PRED: ['lungs', 'clear', 'no', 'pleural', 'effusion', 'pneumothorax', 'heart', 'mediastinum', 'normal', 'skeletal', 'structures', 'normal']\n",
      "ADIM 63:\n",
      "REAL: [['no', 'focal', 'areas', 'consolidation', 'no', 'suspicious', 'bony', 'opacities', 'heart', 'size', 'slightly', 'enlarged', 'no', 'pleural', 'effusions', 'no', 'evidence', 'pneumothorax', 'degenerative', 'changes', 'thoracic', 'spine']]\n",
      "PRED: ['heart', 'pulmonary', 'mediastinum', 'within', 'normal', 'limits', 'no', 'pleural', 'effusion', 'pneumothorax', 'no', 'focal', 'air', 'space', 'opacity', 'suggest', 'pneumonia']\n",
      "ADIM 64:\n",
      "REAL: [['cardiac', 'mediastinal', 'contours', 'within', 'normal', 'limits', 'lungs', 'clear', 'bony', 'structures', 'intact']]\n",
      "PRED: ['cardiac', 'mediastinal', 'contours', 'within', 'normal', 'limits', 'lungs', 'clear', 'bony', 'structures', 'intact']\n",
      "ADIM 65:\n",
      "REAL: [['trachea', 'midline', 'cardiomediastinal', 'silhouette', 'normal', 'lungs', 'clear', 'without', 'focal', 'consolidation', 'effusion', 'no', 'pneumothorax', 'visualized', 'bony', 'structures', 'reveal', 'no', 'acute', 'abnormalities', 'lateral', 'view', 'reveals', 'mild', 'degenerative', 'changes', 'thoracic', 'spine', 'no', 'layering', 'pleural', 'effusion', 'pneumothorax', 'seen', 'decubitus', 'exam']]\n",
      "PRED: ['mild', 'cardiomegaly', 'unchanged', 'stable', 'superior', 'mediastinal', 'contour', 'appear', 'normal', 'pulmonary', 'vascularity', 'no', 'airspace', 'opacity', 'pleural', 'effusion', 'pneumothorax', 'no', 'acute', 'bony', 'abnormalities', 'right', 'upper', 'quadrant', 'surgical', 'clips']\n",
      "ADIM 66:\n",
      "REAL: [['heart', 'size', 'normal', 'lungs', 'clear', 'no', 'focal', 'air', 'space', 'consolidations', 'no', 'pleural', 'effusions', 'pneumothoraces', 'calcified', 'right', 'upper', 'lobe', 'pulmonary', 'granuloma', 'calcified', 'right', 'hilar', 'lymph', 'hilar', 'mediastinal', 'contours', 'normal', 'normal', 'pulmonary', 'vascularity']]\n",
      "PRED: ['frontal', 'lateral', 'views', 'chest', 'show', 'normal', 'size', 'configuration', 'cardiac', 'silhouette', 'right', 'costophrenic', 'sulcus', 'blunted', 'right', 'base', 'fluid', 'level', 'left', 'lung', 'clear']\n",
      "ADIM 67:\n",
      "REAL: [['no', 'focal', 'areas', 'consolidation', 'no', 'suspicious', 'pulmonary', 'opacities', 'mild', 'degenerative', 'change', 'thoracic', 'spine', 'no', 'pleural', 'effusions', 'no', 'evidence', 'pneumothorax', 'heart', 'size', 'normal', 'limits']]\n",
      "PRED: ['heart', 'mediastinal', 'contours', 'stable', 'lungs', 'clear', 'without', 'focal', 'infiltrate', 'no', 'pleural', 'effusion', 'pneumothorax']\n",
      "ADIM 68:\n",
      "REAL: [['cardiomediastinal', 'silhouette', 'pulmonary', 'vasculature', 'within', 'normal', 'limits', 'size', 'minimal', 'opacity', 'lung', 'bases', 'lungs', 'otherwise', 'grossly', 'clear', 'no', 'acute', 'bony', 'findings']]\n",
      "PRED: ['heart', 'size', 'pulmonary', 'vascularity', 'appear', 'within', 'normal', 'limits', 'thoracic', 'aorta', 'tortuous', 'central', 'venous', 'catheter', 'noted', 'lungs', 'free', 'focal', 'airspace', 'disease', 'left', 'base', 'remains', 'elevated', 'no', 'pneumothorax', 'pleural', 'effusion', 'seen']\n",
      "ADIM 69:\n",
      "REAL: [['normal', 'heart', 'size', 'mediastinal', 'contours', 'low', 'lung', 'volumes', 'no', 'significant', 'airspace', 'consolidation', 'no', 'pleural', 'effusion', 'pneumothorax', 'visualized', 'osseous', 'structures', 'unremarkable', 'appearance']]\n",
      "PRED: ['right', 'upper', 'lobe', 'granuloma', 'no', 'pleural', 'effusion', 'pneumothorax', 'heart', 'size', 'within', 'normal', 'limits', 'bony', 'structures', 'intact']\n",
      "ADIM 70:\n",
      "REAL: [['heart', 'size', 'mediastinal', 'contour', 'normal', 'pulmonary', 'vascularity', 'normal', 'lungs', 'clear', 'no', 'pleural', 'effusions', 'pneumothoraces', 'degenerative', 'changes', 'thoracic', 'spine']]\n",
      "PRED: ['mild', 'cardiomegaly', 'unchanged', 'stable', 'superior', 'mediastinal', 'contour', 'tortuous', 'aorta', 'normal', 'pulmonary', 'vascularity', 'no', 'focal', 'air', 'space', 'consolidation', 'pleural', 'effusion', 'pneumothorax', 'no', 'acute', 'bony', 'abnormality']\n",
      "ADIM 71:\n",
      "REAL: [['cardiomediastinal', 'silhouette', 'normal', 'size', 'contour', 'no', 'focal', 'consolidation', 'pneumothorax', 'large', 'pleural', 'effusion', 'normal']]\n",
      "PRED: ['heart', 'lungs', 'interval', 'lungs', 'clear', 'expanded', 'heart', 'mediastinum', 'normal']\n",
      "ADIM 72:\n",
      "REAL: [['heart', 'size', 'mediastinal', 'contour', 'normal', 'pulmonary', 'vascularity', 'normal', 'lungs', 'clear', 'no', 'pleural', 'effusions', 'pneumothoraces']]\n",
      "PRED: ['cardiac', 'silhouette', 'upper', 'limits', 'normal', 'size', 'pulmonary', 'vascularity', 'normal', 'lungs', 'clear', 'no', 'pleural', 'effusion', 'pneumothorax']\n",
      "ADIM 73:\n",
      "REAL: [['cardiomediastinal', 'silhouette', 'within', 'normal', 'limits', 'lungs', 'clear', 'without', 'areas', 'focal', 'consolidation', 'calcified', 'granuloma', 'within', 'left', 'lung', 'base', 'suggestion', 'deep', 'sulcus', 'sign', 'right', 'no', 'definite', 'pleural', 'line', 'pneumothorax', 'visualized', 'ageindeterminate', 'wedging', 'several', 'midthoracic', 'vertebral', 'bodies']]\n",
      "PRED: ['mediastinal', 'contours', 'normal', 'heart', 'size', 'within', 'normal', 'limits', 'multiple', 'calcified', 'mediastinal', 'calcifications', 'aortic', 'no', 'focal', 'consolidation', 'pleural', 'effusion', 'pneumothorax']\n",
      "ADIM 74:\n",
      "REAL: [['heart', 'not', 'enlarged', 'lungs', 'clear', 'no', 'pleural', 'effusion']]\n",
      "PRED: ['no', 'focal', 'consolidation', 'pleural', 'effusions', 'no', 'pneumothorax', 'stable', 'left', 'lung', 'consolidation', 'heart', 'size', 'normal']\n",
      "ADIM 75:\n",
      "REAL: [['trachea', 'midline', 'cardiomediastinal', 'silhouette', 'normal', 'unchanged', 'prior', 'examination', 'round', 'calcific', 'densities', 'right', 'lung', 'consistent', 'prior', 'granulomatous', 'disease', 'otherwise', 'lungs', 'clear', 'without', 'evidence', 'acute', 'infiltrate', 'effusion', 'no', 'pneumothorax', 'visualized', 'bony', 'structures', 'reveal', 'no', 'acute', 'abnormalities']]\n",
      "PRED: ['heart', 'size', 'normal', 'mediastinal', 'contour', 'within', 'normal', 'limits', 'lungs', 'free', 'focal', 'infiltrates', 'no', 'nodules', 'masses', 'no', 'visible', 'pneumothorax', 'no', 'visible', 'pleural', 'fluid', 'grossly', 'normal', 'no', 'visible', 'free', 'intraperitoneal', 'air', 'diaphragm']\n",
      "ADIM 76:\n",
      "REAL: [['heart', 'normal', 'size', 'contour', 'lungs', 'clear', 'without', 'evidence', 'infiltrate', 'no', 'pneumothorax', 'effusion', 'mild', 'degenerative', 'changes', 'lower', 'thoracic', 'spine']]\n",
      "PRED: ['examination', 'consists', 'frontal', 'lateral', 'radiographs', 'chest', 'cardiomediastinal', 'contours', 'within', 'normal', 'limits', 'pulmonary', 'vascularity', 'within', 'normal', 'limits', 'no', 'focal', 'consolidation', 'pleural', 'effusion', 'pneumothorax', 'identified', 'visualized', 'osseous', 'structures', 'upper', 'abdomen', 'unremarkable']\n",
      "ADIM 77:\n",
      "REAL: [['lungs', 'clear', 'no', 'pleural', 'effusion', 'pneumothorax', 'heart', 'not', 'significantly', 'enlarged', 'atherosclerotic', 'changes', 'aorta', 'arthritic', 'changes', 'skeletal', 'structures', 'noted']]\n",
      "PRED: ['heart', 'size', 'pulmonary', 'vascularity', 'appear', 'within', 'normal', 'limits', 'lungs', 'free', 'focal', 'airspace', 'disease', 'no', 'pleural', 'effusion', 'pneumothorax', 'seen', 'bandlike', 'opacities', 'present', 'represent', 'small', 'areas', 'scarring', 'atelectasis', 'eventration', 'right', 'hemidiaphragm', 'calcified', 'granuloma', 'present', 'left', 'lung']\n",
      "ADIM 78:\n",
      "REAL: [['lungs', 'clear', 'no', 'pleural', 'effusion', 'pneumothorax', 'heart', 'not', 'enlarged', 'calcified', 'mediastinal', 'lymph', 'skeletal', 'structures', 'normal']]\n",
      "PRED: ['heart', 'size', 'pulmonary', 'vascularity', 'appear', 'within', 'normal', 'limits', 'lungs', 'free', 'focal', 'airspace', 'disease', 'no', 'pleural', 'effusion', 'pneumothorax', 'seen']\n",
      "ADIM 79:\n",
      "REAL: [['patchy', 'airspace', 'disease', 'present', 'lateral', 'view', 'probably', 'within', 'right', 'lower', 'lobe', 'severe', 'underlying', 'emphysema', 'aorta', 'calcified', 'spondylosis']]\n",
      "PRED: ['heart', 'size', 'pulmonary', 'vascularity', 'appear', 'within', 'normal', 'limits', 'aorta', 'tortuous', 'central', 'venous', 'catheter', 'noted', 'lungs', 'free', 'focal', 'airspace', 'disease', 'no', 'pleural', 'effusion', 'pneumothorax', 'seen', 'eventration', 'right', 'hemidiaphragm', 'degenerative', 'changes', 'present', 'spine']\n",
      "ADIM 80:\n",
      "REAL: [['frontal', 'lateral', 'views', 'chest', 'show', 'normal', 'size', 'configuration', 'cardiac', 'silhouette', 'normal', 'mediastinal', 'contour', 'pulmonary', 'vasculature', 'central', 'airways', 'lung', 'volumes', 'no', 'pleural', 'effusion']]\n",
      "PRED: ['heart', 'size', 'within', 'normal', 'limits', 'no', 'focal', 'alveolar', 'consolidation', 'no', 'definite', 'pleural', 'effusion', 'seen', 'no', 'typical', 'findings', 'pulmonary', 'edema', 'no', 'pneumothorax']\n",
      "ADIM 81:\n",
      "REAL: [['heart', 'normal', 'size', 'mediastinum', 'unremarkable', 'lungs', 'clear']]\n",
      "PRED: ['lungs', 'clear', 'no', 'pleural', 'effusions', 'pneumothoraces', 'heart', 'mediastinum', 'normal', 'size', 'contour']\n",
      "ADIM 82:\n",
      "REAL: [['cardiomediastinal', 'silhouette', 'pulmonary', 'vasculature', 'within', 'normal', 'limits', 'no', 'pneumothorax', 'pleural', 'effusion', 'no', 'focal', 'areas', 'consolidation', 'calcifications', 'projecting', 'left', 'midlung', 'unchanged', 'prior', 'sequela', 'prior', 'granulomatous', 'disease', 'small', 'tspine', 'osteophytes']]\n",
      "PRED: ['examination', 'consists', 'frontal', 'lateral', 'radiographs', 'chest', 'cardiomediastinal', 'contours', 'within', 'normal', 'limits', 'pulmonary', 'vascularity', 'within', 'normal', 'limits', 'no', 'focal', 'consolidation', 'pleural', 'effusion', 'pneumothorax', 'identified', 'visualized', 'osseous', 'structures', 'upper', 'abdomen', 'unremarkable']\n",
      "ADIM 83:\n",
      "REAL: [['heart', 'mediastinal', 'silhouettes', 'within', 'normal', 'limits', 'lungs', 'clear', 'without', 'focal', 'airspace', 'opacity', 'large', 'effusion', 'pneumothorax', 'grossly', 'intact', 'interval', 'removal', 'right', 'picc', 'persistent', 'elevation', 'left', 'hemidiaphragm']]\n",
      "PRED: ['cardiac', 'silhouette', 'mediastinal', 'contours', 'within', 'normal', 'limits', 'no', 'definite', 'focal', 'infiltrate', 'no', 'large', 'pleural', 'effusion']\n",
      "ADIM 84:\n",
      "REAL: [['examination', 'consists', 'frontal', 'lateral', 'radiographs', 'chest', 'low', 'lung', 'volumes', 'pulmonary', 'vascular', 'congestion', 'indistinctness', 'bibasilar', 'airspace', 'disease', 'also', 'present', 'probable', 'left', 'pleural', 'effusion', 'no', 'evidence', 'pneumothorax', 'cardiac', 'silhouette', 'upper', 'lungs', 'normally', 'accentuated', 'due', 'low', 'lung', 'volumes']]\n",
      "PRED: ['heart', 'size', 'upper', 'limits', 'normal', 'pulmonary', 'vascularity', 'appears', 'within', 'normal', 'limits', 'lungs', 'free', 'focal', 'airspace', 'disease', 'no', 'pleural', 'effusion', 'pneumothorax', 'seen', 'eventration', 'right', 'hemidiaphragm', 'elevated']\n",
      "ADIM 85:\n",
      "REAL: [['cardiac', 'contours', 'normal', 'calcified', 'tortuous', 'thoracic', 'aorta', 'emphysema', 'mild', 'apical', 'scarring', 'lungs', 'otherwise', 'clear', 'thoracic', 'spondylosis']]\n",
      "PRED: ['heart', 'size', 'mediastinal', 'contour', 'pulmonary', 'vascularity', 'within', 'normal', 'limits', 'no', 'focal', 'consolidation', 'suspicious', 'pulmonary', 'opacity', 'large', 'pleural', 'effusion', 'pneumothorax', 'identified', 'rounded', 'lucency', 'seen', 'diaphragm', 'lateral', 'view', 'suggestive', 'small', 'hiatal', 'hernia', 'visualized', 'osseous', 'structures', 'appear', 'intact']\n",
      "ADIM 86:\n",
      "REAL: [['lungs', 'clear', 'no', 'pneumothorax', 'pleural', 'effusion', 'heart', 'mediastinum', 'within', 'normal', 'limits', 'bony', 'structures', 'intact']]\n",
      "PRED: ['heart', 'size', 'mediastinal', 'silhouette', 'within', 'normal', 'limits', 'contour', 'lungs', 'clear', 'no', 'pneumothorax', 'pleural', 'effusions', 'intact']\n",
      "ADIM 87:\n",
      "REAL: [['lungs', 'hypoventilated', 'no', 'focal', 'airspace', 'opacity', 'cardiomediastinal', 'silhouette', 'normal', 'size', 'no', 'pneumothorax', 'large', 'pleural', 'effusion']]\n",
      "PRED: ['heart', 'size', 'pulmonary', 'vascularity', 'appear', 'within', 'normal', 'limits', 'lungs', 'free', 'focal', 'airspace', 'disease', 'no', 'pleural', 'effusion', 'pneumothorax', 'seen']\n",
      "ADIM 88:\n",
      "REAL: [['chest', 'stable', 'cardiomediastinal', 'silhouette', 'pulmonary', 'vascularity', 'within', 'normal', 'limits', 'hyperlucent', 'apices', 'negative', 'focal', 'airspace', 'disease', 'consolidation', 'negative', 'pneumothorax', 'pleural', 'effusion', 'healed', 'remote', 'left', 'th', 'rib', 'fracture', 'right', 'shoulder', 'negative', 'fracture', 'dislocation']]\n",
      "PRED: ['heart', 'lungs', 'interval', 'lungs', 'clear', 'expanded', 'heart', 'mediastinum', 'normal']\n",
      "ADIM 89:\n",
      "REAL: [['mild', 'cardiomegaly', 'aorta', 'heavily', 'calcified', 'tortuous', 'consistent', 'atherosclerotic', 'disease', 'diffuse', 'increased', 'interstitial', 'opacities', 'identified', 'may', 'secondary', 'edema', 'alternatively', 'atypical', 'infection', 'no', 'large', 'effusion', 'visualized', 'pneumothorax', 'osteopenia', 'spine', 'identified']]\n",
      "PRED: ['heart', 'size', 'upper', 'limits', 'normal', 'aortic', 'atherosclerotic', 'vascular', 'calcification', 'lungs', 'remain', 'clear', 'without', 'focal', 'airspace', 'opacity', 'pleural', 'effusion', 'pneumothorax', 'no', 'acute', 'bony', 'abnormalities']\n",
      "ADIM 90:\n",
      "REAL: [['heart', 'pulmonary', 'mediastinum', 'within', 'normal', 'limits', 'no', 'pleural', 'effusion', 'pneumothorax', 'no', 'focal', 'air', 'space', 'opacity', 'suggest', 'pneumonia']]\n",
      "PRED: ['heart', 'size', 'mediastinal', 'contours', 'normal', 'lungs', 'clear', 'no', 'pleural', 'effusions', 'pneumothoraces']\n",
      "ADIM 91:\n",
      "REAL: [['lungs', 'clear', 'expanded', 'heart', 'mediastinum', 'normal']]\n",
      "PRED: ['lateral', 'view', 'degraded', 'patient', 'motion', 'lungs', 'clear', 'no', 'pleural', 'effusions', 'pneumothoraces', 'heart', 'mediastinum', 'normal', 'size', 'contour']\n",
      "ADIM 92:\n",
      "REAL: [['abnormal', 'separation', 'right', 'ageindeterminate', 'corticated', 'bony', 'density', 'lateral', 'aspect', 'clavicle', 'may', 'reflect', 'sequela', 'old', 'remote', 'cardia', 'mediastinal', 'silhouette', 'pulmonary', 'vascular', 'pattern', 'normal', 'no', 'pneumothorax', 'no', 'pleural', 'effusion', 'no', 'pulmonary', 'edema', 'minimal', 'endplate', 'degenerative', 'changes', 'midthoracic', 'spine', 'partial', 'obscuration', 'retrosternal', 'space', 'due', 'overlying']]\n",
      "PRED: ['examination', 'consists', 'frontal', 'lateral', 'radiographs', 'chest', 'cardiomediastinal', 'contours', 'within', 'normal', 'limits', 'pulmonary', 'vascularity', 'within', 'normal', 'limits', 'no', 'focal', 'consolidation', 'pleural', 'effusion', 'pneumothorax', 'identified', 'visualized', 'osseous', 'structures', 'upper', 'abdomen', 'unremarkable']\n",
      "ADIM 93:\n",
      "REAL: [['lungs', 'hyperexpanded', 'consistent', 'emphysema', 'pectus', 'carinatum', 'noted', 'heart', 'size', 'pulmonary', 'vascularity', 'appear', 'within', 'normal', 'limits', 'lungs', 'free', 'focal', 'airspace', 'disease', 'calcified', 'granuloma', 'noted', 'vascular', 'calcification', 'noted']]\n",
      "PRED: ['heart', 'size', 'normal', 'mediastinal', 'contour', 'within', 'normal', 'limits', 'lungs', 'free', 'focal', 'infiltrates', 'no', 'nodules', 'masses', 'no', 'visible', 'pneumothorax', 'no', 'visible', 'pleural', 'fluid', 'grossly', 'normal', 'no', 'visible', 'free', 'intraperitoneal', 'air', 'diaphragm']\n",
      "ADIM 94:\n",
      "REAL: [['heart', 'size', 'normal', 'no', 'focal', 'airspace', 'disease', 'no', 'pneumothorax', 'effusions']]\n",
      "PRED: ['lungs', 'clear', 'without', 'focal', 'airspace', 'opacity', 'cardiomediastinal', 'silhouette', 'normal', 'size', 'contour', 'stable', 'no', 'pneumothorax', 'large', 'pleural', 'effusion']\n",
      "ADIM 95:\n",
      "REAL: [['heart', 'size', 'normal', 'no', 'pneumothorax', 'focal', 'airspace', 'disease', 'no', 'pleural', 'effusion', 'eventration', 'right', 'hemidiaphragm', 'mild', 'degenerative', 'changes', 'thoracic', 'spine', 'without', 'fracture']]\n",
      "PRED: ['heart', 'size', 'upper', 'limits', 'normal', 'mediastinal', 'contour', 'appears', 'normal', 'pulmonary', 'vascularity', 'within', 'normal', 'limits', 'otherwise', 'no', 'focal', 'consolidation', 'pleural', 'effusion', 'pneumothorax', 'visualized', 'osseous', 'structures', 'appear', 'intact']\n",
      "ADIM 96:\n",
      "REAL: [['cardiomediastinal', 'silhouette', 'within', 'normal', 'limits', 'appearance', 'thoracic', 'aorta', 'tortuous', 'no', 'focal', 'areas', 'pulmonary', 'consolidation', 'no', 'pneumothorax', 'no', 'large', 'pleural', 'effusion', 'mild', 'degenerative', 'changes', 'osteopenia', 'thoracic', 'spine', 'overlying', 'ekg', 'leads']]\n",
      "PRED: ['cardiac', 'silhouette', 'mediastinal', 'contours', 'within', 'normal', 'limits', 'low', 'lung', 'volumes', 'no', 'focal', 'consolidation', 'pneumothorax', 'no', 'large', 'pleural', 'effusion', 'prominent', 'right', 'anterior', 'first', 'rib', 'end']\n",
      "ADIM 97:\n",
      "REAL: [['heart', 'size', 'within', 'normal', 'limits', 'right', 'paratracheal', 'prominence', 'represents', 'tortuous', 'lung', 'volumes', 'mild', 'streaky', 'bibasilar', 'opacities', 'no', 'pleural', 'effusion', 'pneumothorax']]\n",
      "PRED: ['heart', 'size', 'mediastinal', 'silhouette', 'within', 'normal', 'limits', 'contour', 'lungs', 'clear', 'no', 'pneumothorax', 'pleural', 'effusions', 'intact']\n",
      "ADIM 98:\n",
      "REAL: [['low', 'lung', 'volumes', 'bronchovascular', 'crowding', 'patchy', 'left', 'lower', 'lobe', 'airspace', 'disease', 'opacities', 'right', 'mid', 'lung', 'subsegmental', 'atelectasis', 'no', 'significant', 'pleural', 'effusion', 'no', 'pneumothorax', 'heart', 'size', 'within', 'normal', 'limits', 'aortic', 'atherosclerotic', 'vascular', 'calcification']]\n",
      "PRED: ['right', 'picc', 'tip', 'overlying', 'right', 'brachiocephalic', 'vein', 'cardiac', 'silhouette', 'enlarged', 'no', 'overt', 'pulmonary', 'edema', 'streaky', 'bibasilar', 'opacities', 'no', 'large', 'pleural', 'effusion', 'right', 'hemidiaphragm', 'elevated', 'no', 'pneumothorax', 'identified']\n",
      "ADIM 99:\n",
      "REAL: [['heart', 'normal', 'size', 'mediastinum', 'stable', 'significant', 'thoracolumbar', 'rotatory', 'scoliosis', 'aorta', 'atherosclerotic', 'lungs', 'hypoinflated', 'clear']]\n",
      "PRED: ['heart', 'size', 'upper', 'limits', 'normal', 'aortic', 'atherosclerotic', 'vascular', 'calcification', 'lungs', 'remain', 'hyperexpanded', 'biapical', 'opacities', 'stable', 'prior', 'study', 'no', 'focal', 'airspace', 'consolidation', 'no', 'pleural', 'effusion', 'pneumothorax', 'mild', 'degenerative', 'changes', 'spine']\n",
      "ADIM 100:\n",
      "REAL: [['no', 'focal', 'lung', 'consolidation', 'heart', 'size', 'pulmonary', 'vascularity', 'within', 'normal', 'limits', 'no', 'pneumothorax', 'pleural', 'effusion', 'osseous', 'structures', 'grossly', 'intact']]\n",
      "PRED: ['lungs', 'clear', 'expanded', 'heart', 'mediastinum', 'normal']\n",
      "ADIM 101:\n",
      "REAL: [['lungs', 'clear', 'hyperinflation', 'lungs', 'no', 'pleural', 'effusion', 'pneumothorax', 'heart', 'mediastinum', 'normal', 'mild', 'arthritic', 'changes', 'spine', 'present']]\n",
      "PRED: ['cardiac', 'mediastinal', 'contours', 'within', 'normal', 'limits', 'prior', 'granulomatous', 'disease', 'lungs', 'clear', 'bony', 'structures', 'intact']\n",
      "ADIM 102:\n",
      "REAL: [['no', 'focal', 'lung', 'consolidation', 'heart', 'size', 'pulmonary', 'vascularity', 'within', 'normal', 'limits', 'no', 'pneumothorax', 'pleural', 'effusion', 'osseous', 'structures', 'grossly', 'intact']]\n",
      "PRED: ['no', 'acute', 'osseous', 'abnormality', 'soft', 'tissue', 'structures', 'within', 'normal', 'limits', 'borderline', 'enlargement', 'heart', 'size', 'normal', 'hilar', 'vascular', 'markings', 'left', 'basal', 'airspace', 'disease', 'small', 'effusions']\n",
      "ADIM 103:\n",
      "REAL: [['chest', 'minimally', 'displaced', 'fracture', 'present', 'right', 'rib', 'small', 'amount', 'pleural', 'fluid', 'deep', 'fracture', 'no', 'pleural', 'air', 'collection', 'lungs', 'clear', 'expanded', 'heart', 'mediastinum', 'normal', 'note', 'levoscoliosis', 'thoracolumbar', 'spine', 'right', 'shoulder', 'soft', 'tissues', 'alignment', 'normal', 'right', 'humerus', 'soft', 'tissues', 'intact']]\n",
      "PRED: ['heart', 'mediastinal', 'contours', 'appear', 'within', 'normal', 'limits', 'pulmonary', 'vascularity', 'within', 'normal', 'limits', 'no', 'focal', 'consolidation', 'suspicious', 'pulmonary', 'opacity', 'pneumothorax', 'definite', 'pleural', 'effusion', 'visualized', 'osseous', 'structures', 'appear', 'intact']\n",
      "ADIM 104:\n",
      "REAL: [['heart', 'size', 'normal', 'lungs', 'clear', 'no', 'pneumothorax', 'large', 'pleural', 'effusion']]\n",
      "PRED: ['heart', 'size', 'pulmonary', 'vascularity', 'within', 'normal', 'limits', 'no', 'focal', 'infiltrate', 'pneumothorax', 'pleural', 'effusion', 'identified']\n",
      "ADIM 105:\n",
      "REAL: [['lungs', 'clear', 'expanded', 'heart', 'mediastinum', 'normal']]\n",
      "PRED: ['no', 'focal', 'areas', 'consolidation', 'no', 'pleural', 'effusions', 'no', 'pneumothorax', 'heart', 'size', 'within', 'normal', 'limits', 'osseous', 'structures', 'intact']\n",
      "ADIM 106:\n",
      "REAL: [['cardiomediastinal', 'silhouette', 'normal', 'size', 'appearance', 'lung', 'clear', 'no', 'soft', 'tissue', 'bony', 'abnormalities', 'no', 'pneumothorax', 'pleural', 'effusion']]\n",
      "PRED: ['no', 'pneumothorax', 'pleural', 'effusion', 'focal', 'airspace', 'disease', 'heart', 'size', 'normal', 'cardiomediastinal', 'silhouette', 'stable', 'nodular', 'densities', 'consistent', 'chronic', 'granulomatous', 'disease', 'bony', 'structures', 'appear', 'intact']\n",
      "ADIM 107:\n",
      "REAL: [['leftsided', 'hemodialysis', 'catheter', 'distal', 'tip', 'right', 'atrium', 'cardiac', 'silhouette', 'mediastinal', 'contours', 'within', 'normal', 'limits', 'no', 'focal', 'opacity', 'no', 'pneumothorax', 'no', 'large', 'pleural', 'effusion']]\n",
      "PRED: ['stable', 'cardiomegaly', 'pulmonary', 'vascular', 'congestion', 'probable', 'mild', 'interstitial', 'edema', 'bilateral', 'pleural', 'effusions', 'bibasilar', 'airspace', 'disease', 'right', 'greater', 'left', 'no', 'pneumothorax', 'no', 'acute', 'bony', 'findings']\n",
      "ADIM 108:\n",
      "REAL: [['lungs', 'clear', 'without', 'focal', 'air', 'space', 'opacity', 'cardiomediastinal', 'silhouette', 'normal', 'size', 'contour', 'stable', 'calcifications', 'aortic', 'calcified', 'granuloma', 'left', 'lower', 'lung', 'no', 'pneumothorax', 'large', 'pleural', 'effusion']]\n",
      "PRED: ['cardiomediastinal', 'silhouette', 'vasculature', 'within', 'normal', 'limits', 'size', 'contour', 'lungs', 'normally', 'inflated', 'clear', 'mild', 'degenerative', 'changes', 'spine']\n",
      "ADIM 109:\n",
      "REAL: [['sternotomy', 'numerous', 'mediastinal', 'clips', 'appear', 'stable', 'position', 'aortic', 'atherosclerotic', 'calcification', 'thoracic', 'aorta', 'tortuous', 'stable', 'widening', 'upper', 'mediastinum', 'stable', 'cardiomegaly', 'prominent', 'mitral', 'annular', 'calcification', 'demonstrated', 'lateral', 'view', 'no', 'pneumothorax', 'pleural', 'effusion', 'airspace', 'consolidation', 'appear', 'intact']]\n",
      "PRED: ['mild', 'cardiomegaly', 'unchanged', 'stable', 'superior', 'mediastinal', 'contour', 'appear', 'unchanged', 'no', 'focal', 'airspace', 'consolidation', 'pleural', 'effusion', 'pneumothorax', 'no', 'acute', 'bony', 'abnormalities']\n",
      "ADIM 110:\n",
      "REAL: [['lung', 'volumes', 'low', 'interval', 'patchy', 'infiltrate', 'developed', 'right', 'lower', 'lobe', 'heart', 'pulmonary', 'normal']]\n",
      "PRED: ['heart', 'size', 'mediastinal', 'silhouette', 'within', 'normal', 'limits', 'contour', 'lungs', 'clear', 'no', 'pneumothorax', 'pleural', 'effusions', 'intact']\n",
      "ADIM 111:\n",
      "REAL: [['airspace', 'disease', 'right', 'lower', 'lobe', 'seen', 'behind', 'right', 'hemidiaphragm', 'pa', 'view', 'also', 'well', 'seen', 'lateral', 'view', 'remainder', 'lungs', 'appear', 'clear', 'heart', 'pulmonary', 'appear', 'normal', 'mediastinal', 'contours', 'normal']]\n",
      "PRED: ['heart', 'size', 'pulmonary', 'vascularity', 'appear', 'within', 'normal', 'limits', 'lungs', 'free', 'focal', 'airspace', 'disease', 'no', 'pleural', 'effusion', 'pneumothorax', 'seen']\n",
      "ADIM 112:\n",
      "REAL: [['heart', 'pulmonary', 'mediastinum', 'within', 'normal', 'limits', 'no', 'pleural', 'effusion', 'pneumothorax', 'no', 'focal', 'air', 'space', 'opacity', 'suggest', 'pneumonia', 'patient', 'shielded']]\n",
      "PRED: ['heart', 'size', 'within', 'normal', 'limits', 'no', 'focal', 'alveolar', 'consolidation', 'no', 'definite', 'pleural', 'effusion', 'seen', 'no', 'typical', 'findings', 'pulmonary', 'edema', 'no', 'pneumothorax']\n",
      "ADIM 113:\n",
      "REAL: [['heart', 'size', 'mediastinal', 'contours', 'appear', 'within', 'normal', 'limits', 'atherosclerotic', 'calcification', 'aorta', 'no', 'focal', 'airspace', 'consolidation', 'pleural', 'effusions', 'pneumothorax', 'questionable', 'thinwalled', 'cavitary', 'lesion', 'right', 'lower', 'lobe', 'seen', 'ap', 'view', 'may', 'represent', 'artifact', 'no', 'acute', 'bony', 'abnormalities']]\n",
      "PRED: ['low', 'lung', 'volumes', 'present', 'heart', 'size', 'pulmonary', 'vascularity', 'appear', 'within', 'normal', 'limits', 'lungs', 'free', 'focal', 'airspace', 'disease', 'no', 'pleural', 'effusion', 'pneumothorax', 'seen', 'interval', 'development', 'multiple', 'healed', 'left', 'rib', 'fractures', 'degenerative', 'changes', 'present', 'spine']\n",
      "ADIM 114:\n",
      "REAL: [['cardiac', 'mediastinal', 'contours', 'within', 'normal', 'limits', 'prior', 'granulomatous', 'disease', 'lungs', 'clear', 'bony', 'structures', 'intact']]\n",
      "PRED: ['heart', 'size', 'mediastinal', 'contour', 'pulmonary', 'vascularity', 'within', 'normal', 'limits', 'no', 'focal', 'consolidation', 'pleural', 'effusion', 'pneumothorax', 'identified', 'no', 'acute', 'osseous', 'abnormality', 'identified']\n",
      "ADIM 115:\n",
      "REAL: [['heart', 'size', 'within', 'normal', 'limits', 'mild', 'left', 'upper', 'lobe', 'atelectasis', 'scarring', 'no', 'pneumothorax', 'pleural', 'effusion', 'tortuous', 'aorta', 'hiatal', 'hernia']]\n",
      "PRED: ['stable', 'appearance', 'aortic', 'valve', 'prosthesis', 'sternotomy', 'aortic', 'calcifications', 'mild', 'interstitial', 'edema', 'no', 'focal', 'infiltrate', 'no', 'effusion', 'pneumothorax']\n",
      "ADIM 116:\n",
      "REAL: [['heart', 'normal', 'size', 'contour', 'lungs', 'clear', 'without', 'evidence', 'infiltrate', 'no', 'pneumothorax', 'effusion', 'obliquely', 'oriented', 'lucency', 'posterior', 'right', 'th', 'rib']]\n",
      "PRED: ['examination', 'consists', 'frontal', 'lateral', 'radiographs', 'chest', 'cardiomediastinal', 'contours', 'within', 'normal', 'limits', 'pulmonary', 'vascularity', 'within', 'normal', 'limits', 'no', 'focal', 'consolidation', 'pleural', 'effusion', 'pneumothorax', 'identified', 'visualized', 'osseous', 'structures', 'upper', 'abdomen', 'unremarkable']\n",
      "ADIM 117:\n",
      "REAL: [['heart', 'size', 'pulmonary', 'vascularity', 'appear', 'within', 'normal', 'limits', 'lungs', 'free', 'focal', 'airspace', 'disease', 'no', 'pleural', 'effusion', 'pneumothorax', 'seen', 'no', 'discrete', 'nodules', 'adenopathy', 'identified']]\n",
      "PRED: ['heart', 'size', 'within', 'normal', 'limits', 'stable', 'mediastinal', 'hilar', 'contours', 'no', 'focal', 'alveolar', 'consolidation', 'no', 'definite', 'pleural', 'effusion', 'seen', 'no', 'typical', 'findings', 'pulmonary', 'edema']\n",
      "ADIM 118:\n",
      "REAL: [['mediastinal', 'contours', 'normal', 'lungs', 'clear', 'no', 'pneumothorax', 'large', 'pleural', 'effusion']]\n",
      "PRED: ['heart', 'size', 'mediastinal', 'silhouette', 'within', 'normal', 'limits', 'contour', 'lungs', 'clear', 'no', 'pneumothorax', 'pleural', 'effusions', 'intact']\n",
      "ADIM 119:\n",
      "REAL: [['patient', 'rotated', 'left', 'cardiomediastinal', 'silhouette', 'normal', 'size', 'lucency', 'along', 'left', 'ventricular', 'related', 'interface', 'heart', 'aerated', 'lung', 'patchy', 'right', 'perihilarupper', 'lobe', 'opacities', 'abut', 'fissure', 'lateral', 'projection', 'no', 'pneumothorax', 'large', 'pleural', 'effusion', 'exaggerated', 'thoracic', 'kyphosis', 'no', 'definite', 'acute', 'bone', 'abnormality']]\n",
      "PRED: ['heart', 'size', 'pulmonary', 'vascularity', 'appear', 'within', 'normal', 'limits', 'bilateral', 'pleural', 'effusion', 'present', 'appears', 'increased', 'no', 'pneumothorax', 'identified', 'scattered', 'bilateral', 'pleural', 'thickening', 'present']\n",
      "ADIM 120:\n",
      "REAL: [['heart', 'size', 'within', 'normal', 'limits', 'emphysematous', 'changes', 'focal', 'pleural', 'thickening', 'left', 'apex', 'scarring', 'atherosclerotic', 'calcifications', 'aortic', 'no', 'focal', 'infiltrate', 'no', 'pneumothorax', 'pleural', 'effusion']]\n",
      "PRED: ['cardiac', 'mediastinal', 'contours', 'within', 'normal', 'limits', 'lungs', 'clear', 'bony', 'structures', 'intact']\n",
      "ADIM 121:\n",
      "REAL: [['heart', 'normal', 'size', 'mediastinum', 'unremarkable', 'no', 'pleural', 'effusion', 'pneumothorax', 'focal', 'airspace', 'disease', 'calcific', 'granulomas', 'present', 'right', 'upper', 'lobe', 'unremarkable']]\n",
      "PRED: ['cardiomediastinal', 'silhouette', 'normal', 'size', 'appearance', 'no', 'pleural', 'effusion', 'pneumothorax', 'lungs', 'clear']\n",
      "ADIM 122:\n",
      "REAL: [['clear', 'lungs', 'no', 'pneumothorax', 'no', 'pleural', 'effusion', 'normal', 'heart', 'trachea', 'midline']]\n",
      "PRED: ['heart', 'size', 'pulmonary', 'vascularity', 'appear', 'within', 'normal', 'limits', 'lungs', 'free', 'focal', 'airspace', 'disease', 'no', 'pleural', 'effusion', 'pneumothorax', 'seen']\n",
      "ADIM 123:\n",
      "REAL: [['interstitial', 'markings', 'diffusely', 'prominent', 'throughout', 'lungs', 'heart', 'size', 'normal', 'pulmonary', 'normal']]\n",
      "PRED: ['stable', 'cardiomegaly', 'pulmonary', 'vascular', 'congestion', 'probable', 'mild', 'interstitial', 'edema', 'bilateral', 'pleural', 'effusions', 'bibasilar', 'airspace', 'disease', 'right', 'greater', 'left', 'no', 'pneumothorax', 'no', 'acute', 'bony', 'findings']\n",
      "ADIM 124:\n",
      "REAL: [['minimal', 'opacity', 'left', 'lung', 'base', 'representing', 'atelectasis', 'lungs', 'otherwise', 'clear', 'heart', 'size', 'normal', 'no', 'pneumothorax']]\n",
      "PRED: ['examination', 'consists', 'frontal', 'lateral', 'radiographs', 'chest', 'cardiomediastinal', 'contours', 'within', 'normal', 'limits', 'pulmonary', 'vascularity', 'within', 'normal', 'limits', 'no', 'focal', 'consolidation', 'pleural', 'effusion', 'pneumothorax', 'identified', 'visualized', 'osseous', 'structures', 'upper', 'abdomen', 'unremarkable']\n",
      "ADIM 125:\n",
      "REAL: [['cardiac', 'mediastinal', 'appear', 'normal', 'no', 'visible', 'pneumothorax', 'focal', 'airspace', 'opacity', 'pleural', 'effusion', 'seen', 'no', 'visible', 'free', 'air', 'diaphragm', 'osseous', 'structures', 'appear', 'intact']]\n",
      "PRED: ['heart', 'size', 'within', 'normal', 'limits', 'no', 'focal', 'alveolar', 'consolidation', 'no', 'definite', 'pleural', 'effusion', 'seen', 'no', 'typical', 'findings', 'pulmonary', 'edema', 'no', 'pneumothorax']\n",
      "ADIM 126:\n",
      "REAL: [['normal', 'heart', 'size', 'mild', 'unfolding', 'atherosclerotic', 'calcification', 'aorta', 'no', 'focal', 'air', 'space', 'consolidation', 'no', 'pneumothorax', 'pleural', 'effusion', 'visualized', 'bony', 'structures', 'unremarkable', 'appearance']]\n",
      "PRED: ['heart', 'size', 'normal', 'lungs', 'clear', 'normal', 'no', 'pneumonia', 'effusions', 'edema', 'pneumothorax', 'adenopathy', 'nodules', 'masses']\n",
      "ADIM 127:\n",
      "REAL: [['heart', 'size', 'pulmonary', 'vascularity', 'appear', 'within', 'normal', 'limits', 'lungs', 'free', 'focal', 'airspace', 'disease', 'no', 'pleural', 'effusion', 'pneumothorax', 'seen']]\n",
      "PRED: ['cardiac', 'mediastinal', 'contours', 'within', 'normal', 'limits', 'lungs', 'clear', 'bony', 'structures', 'intact']\n",
      "ADIM 128:\n",
      "REAL: [['no', 'focal', 'consolidation', 'no', 'visualized', 'pneumothorax', 'no', 'large', 'pleural', 'effusions', 'heart', 'size', 'cardiomediastinal', 'silhouette', 'grossly', 'unremarkable']]\n",
      "PRED: ['mediastinal', 'contours', 'normal', 'heart', 'size', 'within', 'normal', 'limits', 'multiple', 'scattered', 'calcified', 'granulomas', 'bilateral', 'lung', 'nodules', 'sequela', 'prior', 'granulomatous', 'disease', 'otherwise', 'lungs', 'clear', 'no', 'pneumothorax', 'large', 'pleural', 'effusion', 'no', 'bony', 'abnormality']\n",
      "ADIM 129:\n",
      "REAL: [['lungs', 'clear', 'bilaterally', 'specifically', 'no', 'evidence', 'focal', 'consolidation', 'pneumothorax', 'pleural', 'effusion', 'cardio', 'mediastinal', 'silhouette', 'unremarkable', 'visualized', 'osseous', 'structures', 'thorax', 'demonstrate', 'stable', 'mild', 'multilevel', 'thoracolumbar', 'degenerative', 'disc', 'disease', 'without', 'acute', 'abnormality', 'upper', 'abdominal', 'midline', 'surgical', 'sutures', 'likewise', 'stable']]\n",
      "PRED: ['heart', 'lungs', 'interval', 'lungs', 'clear', 'expanded', 'heart', 'mediastinum', 'normal']\n",
      "ADIM 130:\n",
      "REAL: [['cardiomediastinal', 'silhouette', 'within', 'normal', 'limits', 'appearance', 'thoracic', 'aorta', 'tortuous', 'calcified', 'no', 'focal', 'areas', 'pulmonary', 'consolidation', 'no', 'pneumothorax', 'no', 'pleural', 'effusion', 'degenerative', 'endplate', 'changes', 'thoracic', 'spine', 'ageindeterminate', 'mild', 'wedge', 'deformity', 'midthoracic', 'vertebral', 'body']]\n",
      "PRED: ['heart', 'size', 'within', 'normal', 'limits', 'stable', 'mediastinal', 'hilar', 'contours', 'no', 'focal', 'alveolar', 'consolidation', 'no', 'definite', 'pleural', 'effusion', 'seen', 'no', 'typical', 'findings', 'pulmonary', 'edema', 'convexity', 'also', 'present', 'previous', 'exam']\n",
      "ADIM 131:\n",
      "REAL: [['heart', 'normal', 'size', 'contour', 'no', 'mediastinal', 'widening', 'lungs', 'clear', 'bilaterally', 'no', 'large', 'pleural', 'effusion', 'pneumothorax', 'intact']]\n",
      "PRED: ['lungs', 'clear', 'no', 'pleural', 'effusions', 'pneumothoraces', 'heart', 'mediastinum', 'normal', 'size', 'contour']\n",
      "ADIM 132:\n",
      "REAL: [['heart', 'mediastinum', 'normal', 'size', 'contour', 'no', 'focal', 'airspace', 'opacity', 'pleural', 'effusion', 'pneumothorax', 'degenerative', 'changes', 'thoracic', 'spine']]\n",
      "PRED: ['no', 'acute', 'osseous', 'abnormality', 'soft', 'tissues', 'within', 'normal', 'limits', 'borderline', 'enlargement', 'heart', 'normal', 'hilar', 'vasculature', 'no', 'focal', 'area', 'consolidation', 'pleural', 'effusion', 'pneumothorax']\n",
      "ADIM 133:\n",
      "REAL: [['lungs', 'clear', 'heart', 'size', 'normal', 'no', 'pneumothorax']]\n",
      "PRED: ['heart', 'size', 'mediastinal', 'contours', 'appear', 'within', 'normal', 'limits', 'pulmonary', 'vascularity', 'within', 'normal', 'limits', 'no', 'focal', 'consolidation', 'suspicious', 'pulmonary', 'opacity', 'pneumothorax', 'definite', 'pleural', 'effusion', 'visualized', 'osseous', 'structures', 'appear', 'intact']\n",
      "ADIM 134:\n",
      "REAL: [['clear', 'lungs', 'no', 'pneumothorax', 'no', 'pleural', 'effusion', 'normal', 'heart', 'mild', 'degenerative', 'changes', 'thoracic', 'spine', 'without', 'acute', 'bony', 'abnormality', 'prominent', 'right', 'epicardial', 'fat']]\n",
      "PRED: ['cardiomediastinal', 'silhouette', 'pulmonary', 'vasculature', 'within', 'normal', 'limits', 'size', 'lungs', 'clear', 'focal', 'airspace', 'disease', 'pneumothorax', 'pleural', 'effusion', 'no', 'acute', 'bony', 'findings']\n",
      "ADIM 135:\n",
      "REAL: [['heart', 'size', 'mildly', 'enlarged', 'stable', 'mediastinal', 'hilar', 'contours', 'no', 'focal', 'alveolar', 'consolidation', 'no', 'definite', 'pleural', 'effusion', 'seen', 'no', 'typical', 'findings', 'pulmonary', 'edema', 'no', 'pneumothorax']]\n",
      "PRED: ['frontal', 'lateral', 'views', 'chest', 'show', 'unchanged', 'cardiomediastinal', 'silhouette', 'reduced', 'lung', 'volumes', 'basilar', 'atelectasis', 'no', 'focal', 'airspace', 'consolidation', 'pleural', 'effusion']\n",
      "ADIM 136:\n",
      "REAL: [['lungs', 'clear', 'bilaterally', 'specifically', 'no', 'evidence', 'focal', 'consolidation', 'pneumothorax', 'pleural', 'effusion', 'cardio', 'mediastinal', 'silhouette', 'unremarkable', 'visualized', 'osseous', 'structures', 'thorax', 'without', 'acute', 'abnormality']]\n",
      "PRED: ['heart', 'size', 'within', 'normal', 'limits', 'no', 'focal', 'airspace', 'disease', 'no', 'pneumothorax', 'effusions']\n",
      "ADIM 137:\n",
      "REAL: [['cardiomediastinal', 'silhouette', 'pulmonary', 'vasculature', 'within', 'normal', 'limits', 'size', 'lungs', 'clear', 'focal', 'airspace', 'disease', 'pneumothorax', 'pleural', 'effusion', 'no', 'acute', 'bony', 'findings']]\n",
      "PRED: ['heart', 'size', 'within', 'normal', 'limits', 'no', 'focal', 'alveolar', 'consolidation', 'no', 'definite', 'pleural', 'effusion', 'seen', 'no', 'typical', 'findings', 'pulmonary', 'edema', 'no', 'pneumothorax']\n",
      "ADIM 138:\n",
      "REAL: [['cardiac', 'contours', 'normal', 'lungs', 'hyperinflated', 'flattened', 'diaphragms', 'no', 'acute', 'pulmonary', 'findings', 'thoracic', 'spondylosis']]\n",
      "PRED: ['heart', 'size', 'pulmonary', 'vascularity', 'appear', 'within', 'normal', 'limits', 'lungs', 'free', 'focal', 'airspace', 'disease', 'no', 'pleural', 'effusion', 'pneumothorax', 'seen']\n",
      "ADIM 139:\n",
      "REAL: [['cardiomediastinal', 'silhouette', 'within', 'normal', 'limits', 'size', 'contour', 'lungs', 'normally', 'inflated', 'without', 'evidence', 'focal', 'airspace', 'disease', 'pleural', 'effusion', 'pneumothorax', 'mild', 'degenerative', 'endplate', 'changes', 'spine']]\n",
      "PRED: ['heart', 'size', 'pulmonary', 'vascularity', 'appear', 'within', 'normal', 'limits', 'lungs', 'free', 'focal', 'airspace', 'disease', 'no', 'pleural', 'effusion', 'pneumothorax', 'seen']\n",
      "ADIM 140:\n",
      "REAL: [['heart', 'normal', 'size', 'mediastinum', 'within', 'normal', 'limits', 'retrocardiac', 'density', 'corresponds', 'patients', 'known', 'hiatal', 'hernia', 'lungs', 'hypoinflated', 'no', 'focal', 'consolidation', 'seen']]\n",
      "PRED: ['heart', 'size', 'pulmonary', 'vascularity', 'appear', 'within', 'normal', 'limits', 'lungs', 'free', 'focal', 'airspace', 'disease', 'no', 'pleural', 'effusion', 'pneumothorax', 'seen', 'bandlike', 'opacities', 'present', 'represent', 'small', 'areas', 'scarring', 'atelectasis', 'eventration', 'right', 'hemidiaphragm', 'calcified', 'granuloma', 'present', 'left', 'lung']\n",
      "ADIM 141:\n",
      "REAL: [['heart', 'pulmonary', 'mediastinum', 'within', 'normal', 'limits', 'no', 'pleural', 'effusion', 'pneumothorax', 'no', 'focal', 'air', 'space', 'opacity', 'suggest', 'pneumonia', 'minimal', 'degenerative', 'changes', 'spine']]\n",
      "PRED: ['cardiac', 'mediastinal', 'contours', 'within', 'normal', 'limits', 'lungs', 'clear', 'bony', 'structures', 'intact']\n",
      "ADIM 142:\n",
      "REAL: [['obscuration', 'left', 'hemidiaphragm', 'suggesting', 'left', 'retrocardiac', 'airspace', 'disease', 'not', 'identified', 'lateral', 'view', 'limited', 'rotation', 'no', 'evidence', 'effusion']]\n",
      "PRED: ['heart', 'size', 'pulmonary', 'vascularity', 'appear', 'within', 'normal', 'limits', 'lungs', 'free', 'focal', 'airspace', 'disease', 'no', 'pleural', 'effusion', 'pneumothorax', 'seen']\n",
      "ADIM 143:\n",
      "REAL: [['lungs', 'clear', 'bilaterally', 'specifically', 'no', 'evidence', 'focal', 'consolidation', 'pneumothorax', 'pleural', 'effusion', 'cardio', 'mediastinal', 'silhouette', 'unremarkable', 'visualized', 'osseous', 'structures', 'thorax', 'without', 'acute', 'abnormality']]\n",
      "PRED: ['heart', 'cardiomediastinal', 'silhouette', 'normal', 'size', 'contour', 'no', 'focal', 'airspace', 'opacity', 'pleural', 'effusion', 'pneumothorax', 'osseous', 'structures', 'intact']\n",
      "ADIM 144:\n",
      "REAL: [['heart', 'normal', 'size', 'mediastinum', 'unremarkable', 'lungs', 'clear']]\n",
      "PRED: ['lungs', 'clear', 'no', 'pleural', 'effusion', 'pneumothorax', 'heart', 'mediastinum', 'normal', 'skeletal', 'structures', 'normal']\n",
      "ADIM 145:\n",
      "REAL: [['stable', 'including', 'elongation', 'left', 'ventricle', 'tortuous', 'thoracic', 'aorta', 'subcarinal', 'calcified', 'lymph', 'lung', 'volumes', 'no', 'focal', 'consolidation', 'pneumothorax', 'large', 'pleural', 'effusion', 'negative', 'acute', 'bone', 'abnormality']]\n",
      "PRED: ['lungs', 'clear', 'bilaterally', 'specifically', 'no', 'evidence', 'focal', 'consolidation', 'pneumothorax', 'pleural', 'effusion', 'cardio', 'mediastinal', 'silhouette', 'unremarkable', 'visualized', 'osseous', 'structures', 'thorax', 'without', 'acute', 'abnormality']\n",
      "ADIM 146:\n",
      "REAL: [['heart', 'size', 'mediastinal', 'contour', 'within', 'normal', 'limits', 'no', 'focal', 'airspace', 'consolidation', 'pneumothorax', 'large', 'pleural', 'effusion', 'no', 'acute', 'osseous', 'abnormality']]\n",
      "PRED: ['cardiomediastinal', 'silhouette', 'within', 'normal', 'limits', 'lungs', 'clear', 'without', 'areas', 'focal', 'consolidation', 'no', 'pneumothorax', 'pleural', 'effusion']\n",
      "ADIM 147:\n",
      "REAL: [['heart', 'normal', 'size', 'mediastinum', 'unremarkable', 'lungs', 'clear']]\n",
      "PRED: ['lungs', 'clear', 'no', 'focal', 'airspace', 'consolidation', 'no', 'pleural', 'effusion', 'pneumothorax', 'heart', 'size', 'upper', 'limits', 'normal', 'thoracic', 'aorta']\n",
      "ADIM 148:\n",
      "REAL: [['lungs', 'remain', 'clear', 'expanded', 'heart', 'mediastinum', 'normal']]\n",
      "PRED: ['heart', 'size', 'mediastinal', 'silhouette', 'within', 'normal', 'limits', 'contour', 'lungs', 'clear', 'no', 'pneumothorax', 'pleural', 'effusions', 'intact']\n",
      "ADIM 149:\n",
      "REAL: [['lungs', 'appear', 'clear', 'thoracic', 'aorta', 'remains', 'tortuous', 'presence', 'aortic', 'aneurysm', 'not', 'excluded', 'study', 'calcified', 'mediastinal', 'hilar', 'lymph', 'suggesting', 'prior', 'histoplasmosis', 'infection', 'pleural', 'spaces', 'clear']]\n",
      "PRED: ['heart', 'size', 'pulmonary', 'vascularity', 'appear', 'within', 'normal', 'limits', 'thoracic', 'aorta', 'tortuous', 'central', 'venous', 'catheter', 'noted', 'lungs', 'free', 'focal', 'airspace', 'disease', 'no', 'pleural', 'effusion', 'pneumothorax', 'seen', 'degenerative', 'changes', 'present', 'spine']\n"
     ]
    }
   ],
   "source": [
    "refs,cands = findReferencesAndCandidates(all_images,all_captions,extraction_model,prediction_model,tokenizer,seq_length)"
   ]
  },
  {
   "cell_type": "code",
   "execution_count": 42,
   "metadata": {
    "colab": {
     "base_uri": "https://localhost:8080/",
     "height": 326
    },
    "id": "D2Tycnak7Nsf",
    "outputId": "62ef20ed-bee4-4b2c-a7dc-43e76fe20fbe"
   },
   "outputs": [
    {
     "name": "stdout",
     "output_type": "stream",
     "text": [
      "Real: [['heart', 'normal', 'size', 'mediastinum', 'unremarkable', 'lungs', 'clear']]\n",
      "Prediction: ['heart', 'size', 'mediastinal', 'contours', 'appear', 'within', 'normal', 'limits', 'pulmonary', 'vascularity', 'within', 'normal', 'limits', 'no', 'focal', 'consolidation', 'suspicious', 'pulmonary', 'opacity', 'pneumothorax', 'definite', 'pleural', 'effusion', 'visualized', 'osseous', 'structures', 'appear', 'intact']\n"
     ]
    },
    {
     "data": {
      "image/png": "[encoded data removed]",
      "text/plain": [
       "<Figure size 432x288 with 1 Axes>"
      ]
     },
     "metadata": {
      "needs_background": "light",
      "tags": []
     },
     "output_type": "display_data"
    }
   ],
   "source": [
    "showSample(all_images,refs,cands)"
   ]
  },
  {
   "cell_type": "code",
   "execution_count": 43,
   "metadata": {
    "colab": {
     "base_uri": "https://localhost:8080/"
    },
    "id": "uZFe_jqmHVtD",
    "outputId": "2dbfd8c7-28e2-43a6-a30f-f914c3daca6d"
   },
   "outputs": [
    {
     "name": "stdout",
     "output_type": "stream",
     "text": [
      "Collecting rouge_score\n",
      "  Downloading https://files.pythonhosted.org/packages/1f/56/a81022436c08b9405a5247b71635394d44fe7e1dbedc4b28c740e09c2840/rouge_score-0.0.4-py2.py3-none-any.whl\n",
      "Requirement already satisfied: nltk in /usr/local/lib/python3.7/dist-packages (from rouge_score) (3.2.5)\n",
      "Requirement already satisfied: six>=1.14.0 in /usr/local/lib/python3.7/dist-packages (from rouge_score) (1.15.0)\n",
      "Requirement already satisfied: absl-py in /usr/local/lib/python3.7/dist-packages (from rouge_score) (0.12.0)\n",
      "Requirement already satisfied: numpy in /usr/local/lib/python3.7/dist-packages (from rouge_score) (1.19.5)\n",
      "Installing collected packages: rouge-score\n",
      "Successfully installed rouge-score-0.0.4\n"
     ]
    }
   ],
   "source": [
    "pip install rouge_score"
   ]
  },
  {
   "cell_type": "code",
   "execution_count": 44,
   "metadata": {
    "colab": {
     "base_uri": "https://localhost:8080/",
     "height": 328
    },
    "id": "Invs0dToHVqw",
    "outputId": "2fc93d1b-58a3-48f4-df60-bd409b6e360e"
   },
   "outputs": [
    {
     "name": "stdout",
     "output_type": "stream",
     "text": [
      "Collecting nltk==3.6\n",
      "\u001b[?25l  Downloading https://files.pythonhosted.org/packages/98/06/de681159e6750d0a215c2126e784504e177896afddf5a68cba42ebe42355/nltk-3.6-py3-none-any.whl (1.5MB)\n",
      "\u001b[K     |████████████████████████████████| 1.5MB 9.4MB/s \n",
      "\u001b[?25hRequirement already satisfied: regex in /usr/local/lib/python3.7/dist-packages (from nltk==3.6) (2019.12.20)\n",
      "Requirement already satisfied: tqdm in /usr/local/lib/python3.7/dist-packages (from nltk==3.6) (4.41.1)\n",
      "Requirement already satisfied: joblib in /usr/local/lib/python3.7/dist-packages (from nltk==3.6) (1.0.1)\n",
      "Requirement already satisfied: click in /usr/local/lib/python3.7/dist-packages (from nltk==3.6) (7.1.2)\n",
      "Installing collected packages: nltk\n",
      "  Found existing installation: nltk 3.2.5\n",
      "    Uninstalling nltk-3.2.5:\n",
      "      Successfully uninstalled nltk-3.2.5\n",
      "Successfully installed nltk-3.6\n"
     ]
    },
    {
     "data": {
      "application/vnd.colab-display-data+json": {
       "pip_warning": {
        "packages": [
         "nltk"
        ]
       }
      }
     },
     "metadata": {
      "tags": []
     },
     "output_type": "display_data"
    }
   ],
   "source": [
    "pip install nltk==3.6"
   ]
  },
  {
   "cell_type": "code",
   "execution_count": 45,
   "metadata": {
    "colab": {
     "base_uri": "https://localhost:8080/"
    },
    "id": "_NZ5exnjHVoQ",
    "outputId": "cd116a4f-97a2-4d6f-93a7-58e9eff01b23"
   },
   "outputs": [
    {
     "name": "stdout",
     "output_type": "stream",
     "text": [
      "[nltk_data] Downloading package wordnet to /root/nltk_data...\n",
      "[nltk_data]   Unzipping corpora/wordnet.zip.\n"
     ]
    },
    {
     "data": {
      "text/plain": [
       "True"
      ]
     },
     "execution_count": 45,
     "metadata": {
      "tags": []
     },
     "output_type": "execute_result"
    }
   ],
   "source": [
    "nltk.download('wordnet')"
   ]
  },
  {
   "cell_type": "code",
   "execution_count": 46,
   "metadata": {
    "id": "uO0msKPVHVly"
   },
   "outputs": [],
   "source": [
    "# Metriklere göre doğruluk hesaplama sınıfı\n",
    "\n",
    "\n",
    "import nltk \n",
    "from rouge_score import rouge_scorer\n",
    "from nltk.translate.meteor_score import meteor_score\n",
    "from nltk.translate.bleu_score import corpus_bleu\n",
    "\n",
    "class Evaluation:\n",
    "    def __init__(self,references,candidates):\n",
    "        '''\n",
    "        Args: References: gerçek değerler, \n",
    "              Candidates: bizim tahmin ettiklerimiz.\n",
    "        '''\n",
    "        self.references = references\n",
    "        self.candidates = candidates\n",
    "\n",
    "    def meteor_score_bul(self): \n",
    "        scores = list()\n",
    "        gercek = ''\n",
    "        tahmin = ''\n",
    "        for index in range(len(self.references)):\n",
    "            cumle_y = self.references[index][0]\n",
    "            cumle_yhat = self.candidates[index]\n",
    "            for word in cumle_y:\n",
    "                gercek += ' ' + word\n",
    "            for word in cumle_yhat:\n",
    "                tahmin += ' ' + word\n",
    "            score = meteor_score([gercek],tahmin)\n",
    "            scores.append(score)\n",
    "            #print(f\"{index+1}.CALCULATION \\nGERCEK:{gercek}\\nTAHMIN:{tahmin}\\n--> SCORE : {score}\")\n",
    "            gercek = ''\n",
    "            tahmin = ''\n",
    "        scores = np.array(scores)\n",
    "        score_met = np.round(np.mean(scores),2)\n",
    "        print(\"METEOR SCORE:\",score_met)\n",
    "        return scores,score_met\n",
    "\n",
    "    def rouge_score_bul(self):\n",
    "        print(\"ROUGE SCORE\")\n",
    "        scorer = rouge_scorer.RougeScorer(['rouge1','rougeL'],use_stemmer=True)\n",
    "        scores = list()\n",
    "        gercek = ''\n",
    "        tahmin = ''\n",
    "        for index in range(len(self.references)):\n",
    "            cumle_y = self.references[index][0]\n",
    "            cumle_yhat = self.candidates[index]\n",
    "            for word in cumle_y:\n",
    "                gercek += ' ' + word\n",
    "            for word in cumle_yhat:\n",
    "                tahmin += ' ' + word\n",
    "            score = scorer.score(gercek,tahmin)\n",
    "            scores.append(score)\n",
    "            #print(f\"{index+1}.CALCULATION \\nGERCEK:{gercek}\\nTAHMIN:{tahmin}\\n--> SCORE : {score}\")\n",
    "            gercek = ''\n",
    "            tahmin = ''\n",
    "        rouge_scores = scores\n",
    "        precision_avg = np.round(np.array([rouge_scores[i]['rouge1'][0] for i in range(len(rouge_scores))]).mean(),2)\n",
    "        recall_avg = np.round(np.array([rouge_scores[i]['rouge1'][1] for i in range(len(rouge_scores))]).mean(),2)\n",
    "        f_measure_avg = np.round(np.array([rouge_scores[i]['rouge1'][2] for i in range(len(rouge_scores))]).mean(),2)\n",
    "        print(\"\\tROUGE-1 'e göre Skorlar:\\n---------------------------------------\")\n",
    "        print(f\"Precision:{precision_avg}\\nRecall:{recall_avg}\\nF_measure:{f_measure_avg}\")\n",
    "        precision_avg = np.round(np.array([rouge_scores[i]['rougeL'][0] for i in range(len(rouge_scores))]).mean(),2)\n",
    "        recall_avg = np.round(np.array([rouge_scores[i]['rougeL'][1] for i in range(len(rouge_scores))]).mean(),2)\n",
    "        f_measure_avg = np.round(np.array([rouge_scores[i]['rougeL'][2] for i in range(len(rouge_scores))]).mean(),2)\n",
    "        print(\"\\n---------------------------------------\\n\\tROUGE-L 'e göre Skorlar:\\n---------------------------------------\")\n",
    "        print(f\"Precision:{precision_avg}\\nRecall:{recall_avg}\\nF_measure:{f_measure_avg}\")\n",
    "        return rouge_scores\n",
    "\n",
    "    def bleu_score_bul(self):\n",
    "        bleus = []\n",
    "        b1 = np.round(corpus_bleu(self.references, self.candidates, weights=(1.0, 0, 0, 0)),2)\n",
    "        b2 = np.round(corpus_bleu(self.references, self.candidates, weights=(0.5, 0.5, 0, 0)),2)\n",
    "        b3 = np.round(corpus_bleu(self.references, self.candidates, weights=(0.3, 0.3, 0.3, 0)),2)\n",
    "        b4 = np.round(corpus_bleu(self.references, self.candidates, weights=(0.25, 0.25, 0.25, 0.25)),2)\n",
    "        print('BLEU-1:',b1)\n",
    "        print('BLEU-2:',b2)\n",
    "        print('BLEU-3:',b3)\n",
    "        print('BLEU-4:',b4)\n",
    "        bleus.append(b1)\n",
    "        bleus.append(b2)\n",
    "        bleus.append(b3)\n",
    "        bleus.append(b4)\n",
    "        return bleus\n",
    "\n",
    "    def evaluateModelAsMetrics(self):\n",
    "        bleus = self.bleu_score_bul()\n",
    "        met_scores,met_score = self.meteor_score_bul()\n",
    "        rouge_scores = self.rouge_score_bul()\n",
    "        return bleus,met_scores,rouge_scores\n"
   ]
  },
  {
   "cell_type": "code",
   "execution_count": 47,
   "metadata": {
    "colab": {
     "base_uri": "https://localhost:8080/"
    },
    "id": "D4n5du-3HZo5",
    "outputId": "d44e96de-23b0-471e-ed80-7d57fd2ad41e"
   },
   "outputs": [
    {
     "name": "stdout",
     "output_type": "stream",
     "text": [
      "BLEU-1: 0.31\n",
      "BLEU-2: 0.19\n",
      "BLEU-3: 0.16\n",
      "BLEU-4: 0.09\n",
      "METEOR SCORE: 0.31\n",
      "ROUGE SCORE\n",
      "\tROUGE-1 'e göre Skorlar:\n",
      "---------------------------------------\n",
      "Precision:0.38\n",
      "Recall:0.38\n",
      "F_measure:0.36\n",
      "\n",
      "---------------------------------------\n",
      "\tROUGE-L 'e göre Skorlar:\n",
      "---------------------------------------\n",
      "Precision:0.3\n",
      "Recall:0.29\n",
      "F_measure:0.28\n"
     ]
    }
   ],
   "source": [
    "evalMetrics = Evaluation(refs,cands)\n",
    "scores = evalMetrics.evaluateModelAsMetrics()"
   ]
  },
  {
   "cell_type": "code",
   "execution_count": 48,
   "metadata": {
    "id": "BgL0_Gg6HZmo"
   },
   "outputs": [],
   "source": [
    "model_dosya_ismi = os.path.join(kayit_yeri,'modeller','mybasetransformer_model19haziran_weights')\n",
    "prediction_model.save_weights(model_dosya_ismi,save_format='tf')"
   ]
  },
  {
   "cell_type": "code",
   "execution_count": 50,
   "metadata": {
    "colab": {
     "base_uri": "https://localhost:8080/"
    },
    "id": "vN-nhyecHZkX",
    "outputId": "411da921-9344-42c5-9c14-954aca0d54a7"
   },
   "outputs": [
    {
     "name": "stdout",
     "output_type": "stream",
     "text": [
      "/content/drive/MyDrive/bm496_7haziran/modeller/mytknzr.pkl dosya kaydedildi\n"
     ]
    }
   ],
   "source": [
    "tknzrmap_dosyayolu = os.path.join(kayit_yeri,'modeller','mytknzr.pkl')\n",
    "tknzrmap = {'tknzr':tokenizer,'seq_len':SEQ_LENGTH}\n",
    "helper.saveToFile(tknzrmap,tknzrmap_dosyayolu)"
   ]
  },
  {
   "cell_type": "code",
   "execution_count": 51,
   "metadata": {
    "colab": {
     "base_uri": "https://localhost:8080/"
    },
    "id": "BaRoq-SpKI8C",
    "outputId": "dc804cb4-a747-4640-bf9b-ea6489b96ab7"
   },
   "outputs": [
    {
     "data": {
      "text/plain": [
       "<tensorflow.python.training.tracking.util.CheckpointLoadStatus at 0x7f953dd2fa90>"
      ]
     },
     "execution_count": 51,
     "metadata": {
      "tags": []
     },
     "output_type": "execute_result"
    }
   ],
   "source": [
    "transformer_prediction = Transformer(NUM_LAYER,EMBED_DIM,NHEADS,FFN_DIM,ROW_SIZE,COL_SIZE,VOCABSIZE,rate=DROPOUT_RATE)\n",
    "transformer_prediction.load_weights(model_dosya_ismi)"
   ]
  },
  {
   "cell_type": "code",
   "execution_count": 64,
   "metadata": {
    "id": "PZj4pGhyKOPz"
   },
   "outputs": [],
   "source": [
    "def generateOneCaption(image,extraction_model,prediction_model,tokenizer,SEQ_LENGTH):\n",
    "   temp_input = tf.expand_dims(goruntuYukle(image)[0], 0)\n",
    "   img_tensor_val = extraction_model(temp_input)\n",
    "   img_tensor_val = tf.reshape(img_tensor_val, (img_tensor_val.shape[0], -1, img_tensor_val.shape[3]))\n",
    "   start_token = tokenizer.word_index['<start>']\n",
    "   end_token = tokenizer.word_index['<end>']\n",
    "   decoder_input = [start_token]\n",
    "\n",
    "   output = tf.expand_dims(decoder_input, 0) #tokens\n",
    "   predicted_words = [] #word list\n",
    "   #print(\"Inıtial: Outpu:\",output,\"\\nDeocder_inp:\",decoder_input,\"\\nstart_token:\",start_token)\n",
    "   for i in range(SEQ_LENGTH):\n",
    "      dec_mask = create_masks_decoder(output)\n",
    "      predictions,_ = prediction_model(img_tensor_val,output,False,dec_mask)\n",
    "      predictions = predictions[: ,-1:, :]  # (batch_size, 1, vocab_size)\n",
    "      predicted_id = tf.cast(tf.argmax(predictions, axis=-1), tf.int32)\n",
    "      if predicted_id == end_token:\n",
    "         predicted_caption = [' '.join(pred_word for pred_word in predicted_words)]\n",
    "         return predicted_caption[0] # tek elemanlı liste \n",
    "      predicted_words.append(tokenizer.index_word[int(predicted_id)])\n",
    "      output = tf.concat([output, predicted_id], axis=-1)\n",
    "      #print(\"output:\",output,\"\\noutput.shape:\",output.shape)\n",
    "      #print(\"predicted_id:\",predicted_id)\n",
    "   predicted_caption = [' '.join(pred_word for pred_word in result)]\n",
    "   return predicted_caption[0] # tek elemanlı liste "
   ]
  },
  {
   "cell_type": "code",
   "execution_count": 63,
   "metadata": {
    "colab": {
     "base_uri": "https://localhost:8080/"
    },
    "id": "UUbFQbitK3Nj",
    "outputId": "ae524bd3-7f14-4626-f982-5436e0ec20eb"
   },
   "outputs": [
    {
     "name": "stdout",
     "output_type": "stream",
     "text": [
      "pred: right picc tip overlying right atrium no pneumothorax large pleural effusion cardiac silhouette mediastinal contours within normal limits\n"
     ]
    }
   ],
   "source": [
    "pred = generateOneCaption(img_fullpaths_test[33],extraction_model,transformer_prediction,tokenizer,SEQ_LENGTH)\n",
    "print(\"pred:\",pred)"
   ]
  },
  {
   "cell_type": "code",
   "execution_count": 69,
   "metadata": {
    "colab": {
     "base_uri": "https://localhost:8080/"
    },
    "id": "wcdlDsGGKNuU",
    "outputId": "4bcd1a42-cdc2-4ecf-bcd1-e5aa74d3c5b0"
   },
   "outputs": [
    {
     "name": "stdout",
     "output_type": "stream",
     "text": [
      "pred: heart size mediastinal contours within normal limits pulmonary vasculature unremarkable no focal consolidation no visible pleural effusion pneumothorax no acute bony abnormality\n"
     ]
    }
   ],
   "source": [
    "pred = generateOneCaption(img_fullpaths_test[18],extraction_model,transformer_prediction,tokenizer,SEQ_LENGTH)\n",
    "print(\"pred:\",pred)"
   ]
  },
  {
   "cell_type": "code",
   "execution_count": null,
   "metadata": {
    "id": "HkqLDzagK5s9"
   },
   "outputs": [],
   "source": []
  }
 ],
 "metadata": {
  "accelerator": "GPU",
  "colab": {
   "name": "bm496_19hzrn_v2.ipynb",
   "provenance": []
  },
  "kernelspec": {
   "display_name": "Python 3",
   "language": "python",
   "name": "python3"
  },
  "language_info": {
   "codemirror_mode": {
    "name": "ipython",
    "version": 3
   },
   "file_extension": ".py",
   "mimetype": "text/x-python",
   "name": "python",
   "nbconvert_exporter": "python",
   "pygments_lexer": "ipython3",
   "version": "3.8.5"
  }
 },
 "nbformat": 4,
 "nbformat_minor": 4
}
